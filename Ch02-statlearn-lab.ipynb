{
  "cells": [
    {
      "cell_type": "markdown",
      "id": "5e73fbeb",
      "metadata": {
        "id": "5e73fbeb"
      },
      "source": [
        "# Introduction to Python\n",
        "\n",
        "<a target=\"_blank\" href=\"https://colab.research.google.com/github/intro-stat-learning/ISLP_labs/blob/v2.2/Ch02-statlearn-lab.ipynb\">\n",
        "<img src=\"https://colab.research.google.com/assets/colab-badge.svg\" alt=\"Open In Colab\"/>\n",
        "</a>\n",
        "\n",
        "[![Binder](https://mybinder.org/badge_logo.svg)](https://mybinder.org/v2/gh/intro-stat-learning/ISLP_labs/v2.2?labpath=Ch02-statlearn-lab.ipynb)\n",
        "\n",
        "\n",
        "\n"
      ]
    },
    {
      "cell_type": "markdown",
      "id": "9ae31f31",
      "metadata": {
        "id": "9ae31f31"
      },
      "source": [
        "## Getting Started"
      ]
    },
    {
      "cell_type": "markdown",
      "id": "3a3d134b-02d8-43d1-9e75-77d9a9f718fa",
      "metadata": {
        "id": "3a3d134b-02d8-43d1-9e75-77d9a9f718fa"
      },
      "source": [
        "To run the labs in this book, you will need two things:\n",
        "\n",
        "* An installation of `Python3`, which is the specific version of `Python`  used in the labs.\n",
        "* Access to  `Jupyter`, a very popular `Python` interface that runs code through a file called a *notebook*."
      ]
    },
    {
      "cell_type": "markdown",
      "id": "5c17a221",
      "metadata": {
        "id": "5c17a221"
      },
      "source": [
        "You can download and install  `Python3`   by following the instructions available at [anaconda.com](http://anaconda.com)."
      ]
    },
    {
      "cell_type": "markdown",
      "id": "319b6d8c",
      "metadata": {
        "id": "319b6d8c"
      },
      "source": [
        " There are a number of ways to get access to `Jupyter`. Here are just a few:\n",
        "\n",
        " * Using Google's `Colaboratory` service: [colab.research.google.com/](https://colab.research.google.com/).\n",
        " * Using `JupyterHub`, available at [jupyter.org/hub](https://jupyter.org/hub).\n",
        " * Using your own `jupyter` installation. Installation instructions are available at [jupyter.org/install](https://jupyter.org/install).\n",
        "\n",
        "Please see the `Python` resources page on the book website [statlearning.com](https://www.statlearning.com) for up-to-date information about getting `Python` and `Jupyter` working on your computer.\n",
        "\n",
        "You will need to install the `ISLP` package, which provides access to the datasets and custom-built functions that we provide.\n",
        "Inside a macOS or Linux terminal type `pip install ISLP`; this also installs most other packages needed in the labs. The `Python` resources page has a link to the `ISLP` documentation website.\n",
        "\n",
        "To run this lab, download the file `Ch2-statlearn-lab.ipynb` from the `Python` resources page.\n",
        "Now run the following code at the command line: `jupyter lab Ch2-statlearn-lab.ipynb`.\n",
        "\n",
        "If you're using Windows, you can use the `start menu` to access `anaconda`, and follow the links. For example, to install `ISLP` and run this lab, you can run the same code above in an `anaconda` shell.\n"
      ]
    },
    {
      "cell_type": "markdown",
      "id": "9906b040",
      "metadata": {
        "id": "9906b040"
      },
      "source": [
        "## Basic Commands\n"
      ]
    },
    {
      "cell_type": "markdown",
      "id": "2ad3c8c1",
      "metadata": {
        "id": "2ad3c8c1"
      },
      "source": [
        "In this lab, we will introduce some simple `Python` commands.\n",
        " For more resources about `Python` in general, readers may want to consult the tutorial at [docs.python.org/3/tutorial/](https://docs.python.org/3/tutorial/).\n",
        "\n",
        "\n",
        "\n"
      ]
    },
    {
      "cell_type": "markdown",
      "id": "b67a6a2a",
      "metadata": {
        "id": "b67a6a2a"
      },
      "source": [
        "Like most programming languages, `Python` uses *functions*\n",
        "to perform operations.   To run a\n",
        "function called `fun`, we type\n",
        "`fun(input1,input2)`, where the inputs (or *arguments*)\n",
        "`input1` and `input2` tell\n",
        "`Python` how to run the function.  A function can have any number of\n",
        "inputs. For example, the\n",
        "`print()`  function outputs a text representation of all of its arguments to the console."
      ]
    },
    {
      "cell_type": "code",
      "execution_count": null,
      "id": "13be547e",
      "metadata": {
        "ExecuteTime": {
          "end_time": "2025-01-09T11:52:27.746244Z",
          "start_time": "2025-01-09T11:52:27.744398Z"
        },
        "id": "13be547e"
      },
      "outputs": [],
      "source": [
        "print('fit a model with', 11, 'variables')\n"
      ]
    },
    {
      "cell_type": "markdown",
      "id": "01c5778d",
      "metadata": {
        "id": "01c5778d"
      },
      "source": [
        " The following command will provide information about the `print()` function."
      ]
    },
    {
      "cell_type": "code",
      "execution_count": 2,
      "id": "9eb79b74",
      "metadata": {
        "ExecuteTime": {
          "end_time": "2025-01-09T11:52:27.761280Z",
          "start_time": "2025-01-09T11:52:27.759215Z"
        },
        "id": "9eb79b74"
      },
      "outputs": [],
      "source": [
        "print?\n"
      ]
    },
    {
      "cell_type": "markdown",
      "id": "e2a8dcaa",
      "metadata": {
        "id": "e2a8dcaa"
      },
      "source": [
        "Adding two integers in `Python` is pretty intuitive."
      ]
    },
    {
      "cell_type": "code",
      "execution_count": 3,
      "id": "0fb04362",
      "metadata": {
        "ExecuteTime": {
          "end_time": "2025-01-09T11:52:27.789134Z",
          "start_time": "2025-01-09T11:52:27.787348Z"
        },
        "editable": true,
        "tags": [],
        "id": "0fb04362",
        "outputId": "e8e8bb99-2112-440e-85ff-86e10db61771",
        "colab": {
          "base_uri": "https://localhost:8080/"
        }
      },
      "outputs": [
        {
          "output_type": "execute_result",
          "data": {
            "text/plain": [
              "8"
            ]
          },
          "metadata": {},
          "execution_count": 3
        }
      ],
      "source": [
        "3 + 5\n"
      ]
    },
    {
      "cell_type": "markdown",
      "id": "df9134a7",
      "metadata": {
        "id": "df9134a7"
      },
      "source": [
        "In `Python`, textual data is handled using\n",
        "*strings*. For instance, `\"hello\"` and\n",
        "`'hello'`\n",
        "are strings.\n",
        "We can concatenate them using the addition `+` symbol."
      ]
    },
    {
      "cell_type": "code",
      "execution_count": 4,
      "id": "e69d158e",
      "metadata": {
        "ExecuteTime": {
          "end_time": "2025-01-09T11:52:27.816701Z",
          "start_time": "2025-01-09T11:52:27.814881Z"
        },
        "id": "e69d158e",
        "outputId": "faf1a6d4-4fbd-4209-c6b2-f677e6070bc4",
        "colab": {
          "base_uri": "https://localhost:8080/",
          "height": 36
        }
      },
      "outputs": [
        {
          "output_type": "execute_result",
          "data": {
            "text/plain": [
              "'hello world'"
            ],
            "application/vnd.google.colaboratory.intrinsic+json": {
              "type": "string"
            }
          },
          "metadata": {},
          "execution_count": 4
        }
      ],
      "source": [
        "\"hello\" + \" \" + \"world\"\n"
      ]
    },
    {
      "cell_type": "markdown",
      "id": "19c59ca8",
      "metadata": {
        "id": "19c59ca8"
      },
      "source": [
        " A string is actually a type of *sequence*: this is a generic term for an ordered list.\n",
        " The three most important types of sequences are lists, tuples, and strings.  \n",
        "We introduce lists now."
      ]
    },
    {
      "cell_type": "markdown",
      "id": "54a3ab31",
      "metadata": {
        "id": "54a3ab31"
      },
      "source": [
        "The following command instructs `Python` to join together\n",
        "the numbers 3, 4, and 5, and to save them as a\n",
        "*list* named `x`. When we\n",
        "type `x`, it gives us back the list."
      ]
    },
    {
      "cell_type": "code",
      "execution_count": 5,
      "id": "469b6873",
      "metadata": {
        "ExecuteTime": {
          "end_time": "2025-01-09T11:52:27.849145Z",
          "start_time": "2025-01-09T11:52:27.846624Z"
        },
        "id": "469b6873",
        "outputId": "5ba192d8-bc45-4ae3-e78c-aaa5cfcdf317",
        "colab": {
          "base_uri": "https://localhost:8080/"
        }
      },
      "outputs": [
        {
          "output_type": "execute_result",
          "data": {
            "text/plain": [
              "[3, 4, 5]"
            ]
          },
          "metadata": {},
          "execution_count": 5
        }
      ],
      "source": [
        "x = [3, 4, 5]\n",
        "x\n"
      ]
    },
    {
      "cell_type": "markdown",
      "id": "f7b82627",
      "metadata": {
        "id": "f7b82627"
      },
      "source": [
        "Note that we used the brackets\n",
        "`[]` to construct this list.\n",
        "\n",
        "We will often want to add two sets of numbers together. It is reasonable to try the following code,\n",
        "though it will not produce the desired results."
      ]
    },
    {
      "cell_type": "code",
      "execution_count": 6,
      "id": "8bcb5c5b",
      "metadata": {
        "ExecuteTime": {
          "end_time": "2025-01-09T11:52:27.881132Z",
          "start_time": "2025-01-09T11:52:27.878965Z"
        },
        "id": "8bcb5c5b",
        "outputId": "ac4ea325-ed77-49ab-e1fb-7fef946a22f7",
        "colab": {
          "base_uri": "https://localhost:8080/"
        }
      },
      "outputs": [
        {
          "output_type": "execute_result",
          "data": {
            "text/plain": [
              "[3, 4, 5, 4, 9, 7]"
            ]
          },
          "metadata": {},
          "execution_count": 6
        }
      ],
      "source": [
        "y = [4, 9, 7]\n",
        "x + y\n"
      ]
    },
    {
      "cell_type": "markdown",
      "id": "845910be",
      "metadata": {
        "id": "845910be"
      },
      "source": [
        "The result may appear slightly counterintuitive: why did `Python` not add the entries of the lists\n",
        "element-by-element?\n",
        " In `Python`, lists hold *arbitrary* objects, and  are added using  *concatenation*.\n",
        " In fact, concatenation is the behavior that we saw earlier when we entered `\"hello\" + \" \" + \"world\"`.\n",
        ""
      ]
    },
    {
      "cell_type": "markdown",
      "id": "71c69dd1",
      "metadata": {
        "id": "71c69dd1"
      },
      "source": [
        ":This example reflects the fact that\n",
        " `Python` is a general-purpose programming language. Much of `Python`'s  data-specific\n",
        "functionality comes from other packages, notably `numpy`\n",
        "and `pandas`.\n",
        "In the next section, we will introduce the  `numpy` package.\n",
        "See [docs.scipy.org/doc/numpy/user/quickstart.html](https://docs.scipy.org/doc/numpy/user/quickstart.html) for more information about `numpy`.\n"
      ]
    },
    {
      "cell_type": "markdown",
      "id": "9659f008",
      "metadata": {
        "id": "9659f008"
      },
      "source": [
        "## Introduction to Numerical Python\n",
        "\n",
        "As mentioned earlier, this book makes use of functionality   that is contained in the `numpy`\n",
        " *library*, or *package*. A package is a collection of modules that are not necessarily included in\n",
        " the base `Python` distribution. The name `numpy` is an abbreviation for *numerical Python*."
      ]
    },
    {
      "cell_type": "markdown",
      "id": "0bdfdebb",
      "metadata": {
        "id": "0bdfdebb"
      },
      "source": [
        "  To access `numpy`, we must first `import` it."
      ]
    },
    {
      "cell_type": "code",
      "execution_count": 7,
      "id": "ac55fedf",
      "metadata": {
        "ExecuteTime": {
          "end_time": "2025-01-09T11:52:27.909060Z",
          "start_time": "2025-01-09T11:52:27.907647Z"
        },
        "lines_to_next_cell": 0,
        "id": "ac55fedf"
      },
      "outputs": [],
      "source": [
        "import numpy as np"
      ]
    },
    {
      "cell_type": "markdown",
      "id": "092028f8",
      "metadata": {
        "id": "092028f8"
      },
      "source": [
        "In the previous line, we named the `numpy` *module* `np`; an abbreviation for easier referencing."
      ]
    },
    {
      "cell_type": "markdown",
      "id": "4f513f46",
      "metadata": {
        "id": "4f513f46"
      },
      "source": [
        "In `numpy`, an *array* is  a generic term for a multidimensional\n",
        "set of numbers.\n",
        "We use the `np.array()` function to define   `x` and `y`, which are one-dimensional arrays, i.e. vectors."
      ]
    },
    {
      "cell_type": "code",
      "execution_count": 8,
      "id": "c4d9f140",
      "metadata": {
        "ExecuteTime": {
          "end_time": "2025-01-09T11:52:27.921561Z",
          "start_time": "2025-01-09T11:52:27.920070Z"
        },
        "lines_to_next_cell": 0,
        "id": "c4d9f140"
      },
      "outputs": [],
      "source": [
        "x = np.array([3, 4, 5])\n",
        "y = np.array([4, 9, 7])"
      ]
    },
    {
      "cell_type": "markdown",
      "id": "16e9ebc2",
      "metadata": {
        "id": "16e9ebc2"
      },
      "source": [
        "Note that if you forgot to run the `import numpy as np` command earlier, then\n",
        "you will encounter an error in calling the `np.array()` function in the previous line.\n",
        " The syntax `np.array()` indicates that the function being called\n",
        "is part of the `numpy` package, which we have abbreviated as `np`."
      ]
    },
    {
      "cell_type": "markdown",
      "id": "1a8239ac",
      "metadata": {
        "id": "1a8239ac"
      },
      "source": [
        "Since `x` and `y` have been defined using `np.array()`, we get a sensible result when we add them together. Compare this to our results in the previous section,\n",
        " when we tried to add two lists without using `numpy`."
      ]
    },
    {
      "cell_type": "code",
      "execution_count": 9,
      "id": "106ef1ea",
      "metadata": {
        "ExecuteTime": {
          "end_time": "2025-01-09T11:52:27.929307Z",
          "start_time": "2025-01-09T11:52:27.927364Z"
        },
        "lines_to_next_cell": 0,
        "id": "106ef1ea",
        "outputId": "3825f73f-8c26-4d55-c025-473a9c05aa04",
        "colab": {
          "base_uri": "https://localhost:8080/"
        }
      },
      "outputs": [
        {
          "output_type": "execute_result",
          "data": {
            "text/plain": [
              "array([ 7, 13, 12])"
            ]
          },
          "metadata": {},
          "execution_count": 9
        }
      ],
      "source": [
        "x + y"
      ]
    },
    {
      "cell_type": "markdown",
      "id": "0135aa6b",
      "metadata": {
        "id": "0135aa6b"
      },
      "source": [
        "    \n",
        "\n"
      ]
    },
    {
      "cell_type": "markdown",
      "id": "865711ef",
      "metadata": {
        "id": "865711ef"
      },
      "source": [
        "In `numpy`, matrices are typically represented as two-dimensional arrays, and vectors as one-dimensional arrays. {While it is also possible to create matrices using  `np.matrix()`, we will use `np.array()` throughout the labs in this book.}\n",
        "We can create a two-dimensional array as follows."
      ]
    },
    {
      "cell_type": "code",
      "execution_count": 10,
      "id": "d111ed03",
      "metadata": {
        "ExecuteTime": {
          "end_time": "2025-01-09T11:52:27.953696Z",
          "start_time": "2025-01-09T11:52:27.951757Z"
        },
        "lines_to_next_cell": 0,
        "id": "d111ed03",
        "outputId": "22f46bfd-0094-49c1-e686-34b66bc2b1ea",
        "colab": {
          "base_uri": "https://localhost:8080/"
        }
      },
      "outputs": [
        {
          "output_type": "execute_result",
          "data": {
            "text/plain": [
              "array([[1, 2],\n",
              "       [3, 4]])"
            ]
          },
          "metadata": {},
          "execution_count": 10
        }
      ],
      "source": [
        "x = np.array([[1, 2], [3, 4]])\n",
        "x"
      ]
    },
    {
      "cell_type": "markdown",
      "id": "b8e25756",
      "metadata": {
        "id": "b8e25756"
      },
      "source": [
        "    \n",
        "\n"
      ]
    },
    {
      "cell_type": "markdown",
      "id": "be9f88c2",
      "metadata": {
        "id": "be9f88c2"
      },
      "source": [
        "The object `x` has several\n",
        "*attributes*, or associated objects. To access an attribute of `x`, we type `x.attribute`, where we replace `attribute`\n",
        "with the name of the attribute.\n",
        "For instance, we can access the `ndim` attribute of  `x` as follows."
      ]
    },
    {
      "cell_type": "code",
      "execution_count": 11,
      "id": "d9562687",
      "metadata": {
        "ExecuteTime": {
          "end_time": "2025-01-09T11:52:27.983431Z",
          "start_time": "2025-01-09T11:52:27.981633Z"
        },
        "id": "d9562687",
        "outputId": "e33936bd-aaf9-4b4e-fb9a-05b23cde198e",
        "colab": {
          "base_uri": "https://localhost:8080/"
        }
      },
      "outputs": [
        {
          "output_type": "execute_result",
          "data": {
            "text/plain": [
              "2"
            ]
          },
          "metadata": {},
          "execution_count": 11
        }
      ],
      "source": [
        "x.ndim"
      ]
    },
    {
      "cell_type": "markdown",
      "id": "e7384a93",
      "metadata": {
        "id": "e7384a93"
      },
      "source": [
        "The output indicates that `x` is a two-dimensional array.  \n",
        "Similarly, `x.dtype` is the *data type* attribute of the object `x`. This indicates that `x` is\n",
        "comprised of 64-bit integers:"
      ]
    },
    {
      "cell_type": "code",
      "execution_count": 12,
      "id": "4fe5b7cf",
      "metadata": {
        "ExecuteTime": {
          "end_time": "2025-01-09T11:52:28.029075Z",
          "start_time": "2025-01-09T11:52:28.027277Z"
        },
        "lines_to_next_cell": 0,
        "id": "4fe5b7cf",
        "outputId": "e4a57c6e-d410-4667-e12b-f119cf5da73e",
        "colab": {
          "base_uri": "https://localhost:8080/"
        }
      },
      "outputs": [
        {
          "output_type": "execute_result",
          "data": {
            "text/plain": [
              "dtype('int64')"
            ]
          },
          "metadata": {},
          "execution_count": 12
        }
      ],
      "source": [
        "x.dtype"
      ]
    },
    {
      "cell_type": "markdown",
      "id": "94c2f16a",
      "metadata": {
        "id": "94c2f16a"
      },
      "source": [
        "Why is `x` comprised of integers? This is because we created `x` by passing in exclusively integers to the `np.array()` function.\n",
        "  If\n",
        "we had passed in any decimals, then we would have obtained an array of\n",
        "*floating point numbers* (i.e. real-valued numbers)."
      ]
    },
    {
      "cell_type": "code",
      "execution_count": 13,
      "id": "c4c43c7d",
      "metadata": {
        "ExecuteTime": {
          "end_time": "2025-01-09T11:52:28.066788Z",
          "start_time": "2025-01-09T11:52:28.064975Z"
        },
        "lines_to_next_cell": 2,
        "id": "c4c43c7d",
        "outputId": "cfd2f216-da50-4ba1-996d-c77eee85a3f6",
        "colab": {
          "base_uri": "https://localhost:8080/"
        }
      },
      "outputs": [
        {
          "output_type": "execute_result",
          "data": {
            "text/plain": [
              "dtype('float64')"
            ]
          },
          "metadata": {},
          "execution_count": 13
        }
      ],
      "source": [
        "np.array([[1, 2], [3.0, 4]]).dtype\n"
      ]
    },
    {
      "cell_type": "markdown",
      "id": "fba26223",
      "metadata": {
        "id": "fba26223"
      },
      "source": [
        "Typing `fun?` will cause `Python` to display\n",
        "documentation associated with the function `fun`, if it exists.\n",
        "We can try this for `np.array()`."
      ]
    },
    {
      "cell_type": "code",
      "execution_count": 14,
      "id": "62851cb3",
      "metadata": {
        "ExecuteTime": {
          "end_time": "2025-01-09T11:52:28.088689Z",
          "start_time": "2025-01-09T11:52:28.087048Z"
        },
        "lines_to_next_cell": 0,
        "id": "62851cb3"
      },
      "outputs": [],
      "source": [
        "np.array?\n"
      ]
    },
    {
      "cell_type": "markdown",
      "id": "d89ca747",
      "metadata": {
        "id": "d89ca747"
      },
      "source": [
        "This documentation indicates that we could create a floating point array by passing a `dtype` argument into `np.array()`."
      ]
    },
    {
      "cell_type": "code",
      "execution_count": 15,
      "id": "816dac08",
      "metadata": {
        "ExecuteTime": {
          "end_time": "2025-01-09T11:52:28.117892Z",
          "start_time": "2025-01-09T11:52:28.115732Z"
        },
        "lines_to_next_cell": 2,
        "id": "816dac08",
        "outputId": "b21ac32e-0cbe-4b24-b5c5-98fab6d726f7",
        "colab": {
          "base_uri": "https://localhost:8080/"
        }
      },
      "outputs": [
        {
          "output_type": "execute_result",
          "data": {
            "text/plain": [
              "dtype('float64')"
            ]
          },
          "metadata": {},
          "execution_count": 15
        }
      ],
      "source": [
        "np.array([[1, 2], [3, 4]], float).dtype\n"
      ]
    },
    {
      "cell_type": "markdown",
      "id": "8e640e48",
      "metadata": {
        "id": "8e640e48"
      },
      "source": [
        "The array `x` is two-dimensional. We can find out the number of rows and columns by looking\n",
        "at its `shape` attribute."
      ]
    },
    {
      "cell_type": "code",
      "execution_count": 16,
      "id": "9a81115b",
      "metadata": {
        "ExecuteTime": {
          "end_time": "2025-01-09T11:52:28.148644Z",
          "start_time": "2025-01-09T11:52:28.146394Z"
        },
        "lines_to_next_cell": 2,
        "id": "9a81115b",
        "outputId": "d5750fd6-2a65-4675-84f7-3b3a09d0ae4b",
        "colab": {
          "base_uri": "https://localhost:8080/"
        }
      },
      "outputs": [
        {
          "output_type": "execute_result",
          "data": {
            "text/plain": [
              "(2, 2)"
            ]
          },
          "metadata": {},
          "execution_count": 16
        }
      ],
      "source": [
        "x.shape\n"
      ]
    },
    {
      "cell_type": "markdown",
      "id": "af33afab",
      "metadata": {
        "id": "af33afab"
      },
      "source": [
        "A *method* is a function that is associated with an\n",
        "object.\n",
        "For instance, given an array `x`, the expression\n",
        "`x.sum()` sums all of its elements, using the `sum()`\n",
        "method for arrays.\n",
        "The call `x.sum()` automatically provides `x` as the\n",
        "first argument to its `sum()` method."
      ]
    },
    {
      "cell_type": "code",
      "execution_count": 17,
      "id": "8f051245",
      "metadata": {
        "ExecuteTime": {
          "end_time": "2025-01-09T11:52:28.174020Z",
          "start_time": "2025-01-09T11:52:28.171879Z"
        },
        "lines_to_next_cell": 0,
        "id": "8f051245",
        "outputId": "36af93c6-aeec-41e0-94e6-04d0d27cd5b6",
        "colab": {
          "base_uri": "https://localhost:8080/"
        }
      },
      "outputs": [
        {
          "output_type": "execute_result",
          "data": {
            "text/plain": [
              "np.int64(10)"
            ]
          },
          "metadata": {},
          "execution_count": 17
        }
      ],
      "source": [
        "x = np.array([1, 2, 3, 4])\n",
        "x.sum()"
      ]
    },
    {
      "cell_type": "markdown",
      "id": "dac9e21a",
      "metadata": {
        "id": "dac9e21a"
      },
      "source": [
        "We could also sum the elements of `x` by passing in `x` as an argument to the `np.sum()` function."
      ]
    },
    {
      "cell_type": "code",
      "execution_count": 20,
      "id": "906c3a0e",
      "metadata": {
        "ExecuteTime": {
          "end_time": "2025-01-09T11:52:28.193559Z",
          "start_time": "2025-01-09T11:52:28.191478Z"
        },
        "lines_to_next_cell": 0,
        "id": "906c3a0e",
        "outputId": "d7535de8-ab6e-4eb9-ddfa-36a189cb5192",
        "colab": {
          "base_uri": "https://localhost:8080/"
        }
      },
      "outputs": [
        {
          "output_type": "execute_result",
          "data": {
            "text/plain": [
              "np.int64(10)"
            ]
          },
          "metadata": {},
          "execution_count": 20
        }
      ],
      "source": [
        "x = np.array([1, 2, 3, 4])\n",
        "np.sum(x)\n",
        "# print(np.sum(x))"
      ]
    },
    {
      "cell_type": "markdown",
      "id": "699724d1",
      "metadata": {
        "id": "699724d1"
      },
      "source": [
        " As another example, the\n",
        "`reshape()` method returns a new array with the same elements as\n",
        "`x`, but a different shape.\n",
        " We do this by passing in a `tuple` in our call to\n",
        " `reshape()`, in this case `(2, 3)`.  This tuple specifies that we would like to create a two-dimensional array with\n",
        "$2$ rows and $3$ columns. {Like lists, tuples represent a sequence of objects. Why do we need more than one way to create a sequence? There are a few differences between tuples and lists, but perhaps the most important is that elements of a tuple cannot be modified, whereas elements of a list can be.}\n",
        "\n",
        "In what follows, the\n",
        "`\\n` character creates a *new line*."
      ]
    },
    {
      "cell_type": "code",
      "execution_count": null,
      "id": "e8b8d6db",
      "metadata": {
        "ExecuteTime": {
          "end_time": "2025-01-09T11:52:28.224737Z",
          "start_time": "2025-01-09T11:52:28.222840Z"
        },
        "id": "e8b8d6db"
      },
      "outputs": [],
      "source": [
        "x = np.array([1, 2, 3, 4, 5, 6])\n",
        "print('beginning x:\\n', x)\n",
        "x_reshape = x.reshape((2, 3))\n",
        "print('reshaped x:\\n', x_reshape)\n"
      ]
    },
    {
      "cell_type": "markdown",
      "id": "1ac636e5",
      "metadata": {
        "id": "1ac636e5"
      },
      "source": [
        "The previous output reveals that `numpy` arrays are specified as a sequence\n",
        "of *rows*. This is  called *row-major ordering*, as opposed to *column-major ordering*."
      ]
    },
    {
      "cell_type": "markdown",
      "id": "0dbc4613",
      "metadata": {
        "id": "0dbc4613"
      },
      "source": [
        "`Python` (and hence `numpy`) uses 0-based\n",
        "indexing. This means that to access the top left element of `x_reshape`,\n",
        "we type in `x_reshape[0,0]`."
      ]
    },
    {
      "cell_type": "code",
      "execution_count": null,
      "id": "47c39f33",
      "metadata": {
        "ExecuteTime": {
          "end_time": "2025-01-09T11:52:28.244575Z",
          "start_time": "2025-01-09T11:52:28.242483Z"
        },
        "lines_to_next_cell": 0,
        "id": "47c39f33"
      },
      "outputs": [],
      "source": [
        "x_reshape[0, 0]"
      ]
    },
    {
      "cell_type": "markdown",
      "id": "883bc5b3",
      "metadata": {
        "id": "883bc5b3"
      },
      "source": [
        "Similarly, `x_reshape[1,2]` yields the element in the second row and the third column\n",
        "of `x_reshape`."
      ]
    },
    {
      "cell_type": "code",
      "execution_count": null,
      "id": "d74a5638",
      "metadata": {
        "ExecuteTime": {
          "end_time": "2025-01-09T11:52:28.260574Z",
          "start_time": "2025-01-09T11:52:28.258546Z"
        },
        "lines_to_next_cell": 0,
        "id": "d74a5638"
      },
      "outputs": [],
      "source": [
        "x_reshape[1, 2]"
      ]
    },
    {
      "cell_type": "markdown",
      "id": "4ff98255",
      "metadata": {
        "id": "4ff98255"
      },
      "source": [
        "Similarly, `x[2]` yields the\n",
        "third entry of `x`.\n",
        "\n",
        "Now, let's modify the top left element of `x_reshape`.  To our surprise, we discover that the first element of `x` has been modified as well!\n",
        "\n"
      ]
    },
    {
      "cell_type": "code",
      "execution_count": null,
      "id": "5a19217f",
      "metadata": {
        "ExecuteTime": {
          "end_time": "2025-01-09T11:52:28.293491Z",
          "start_time": "2025-01-09T11:52:28.290190Z"
        },
        "id": "5a19217f"
      },
      "outputs": [],
      "source": [
        "print('x before we modify x_reshape:\\n', x)\n",
        "print('x_reshape before we modify x_reshape:\\n', x_reshape)\n",
        "x_reshape[0, 0] = 5\n",
        "print('x_reshape after we modify its top left element:\\n', x_reshape)\n",
        "print('x after we modify top left element of x_reshape:\\n', x)\n"
      ]
    },
    {
      "cell_type": "markdown",
      "id": "027b7f16",
      "metadata": {
        "id": "027b7f16"
      },
      "source": [
        "Modifying `x_reshape` also modified `x` because the two objects occupy the same space in memory.\n",
        "\n",
        "\n",
        "    "
      ]
    },
    {
      "cell_type": "markdown",
      "id": "ea7dec33",
      "metadata": {
        "id": "ea7dec33"
      },
      "source": [
        "We just saw that we can modify an element of an array. Can we also modify a tuple? It turns out that we cannot --- and trying to do so introduces\n",
        "an *exception*, or error."
      ]
    },
    {
      "cell_type": "code",
      "execution_count": null,
      "id": "116ec7b8",
      "metadata": {
        "ExecuteTime": {
          "end_time": "2025-01-09T11:52:28.328585Z",
          "start_time": "2025-01-09T11:52:28.327Z"
        },
        "lines_to_next_cell": 2,
        "id": "116ec7b8"
      },
      "outputs": [],
      "source": [
        "my_tuple = (3, 4, 5)\n",
        "my_tuple[0] = 2\n"
      ]
    },
    {
      "cell_type": "markdown",
      "id": "484ae7d1",
      "metadata": {
        "id": "484ae7d1"
      },
      "source": [
        "We now briefly mention some attributes of arrays that will come in handy. An array's `shape` attribute contains its dimension; this is always a tuple.\n",
        "The  `ndim` attribute yields the number of dimensions, and `T` provides its transpose."
      ]
    },
    {
      "cell_type": "code",
      "execution_count": null,
      "id": "ec5dc91e",
      "metadata": {
        "ExecuteTime": {
          "end_time": "2025-01-09T11:52:28.341696Z",
          "start_time": "2025-01-09T11:52:28.339499Z"
        },
        "id": "ec5dc91e"
      },
      "outputs": [],
      "source": [
        "x_reshape.shape, x_reshape.ndim, x_reshape.T\n"
      ]
    },
    {
      "cell_type": "markdown",
      "id": "a7aa0555",
      "metadata": {
        "id": "a7aa0555"
      },
      "source": [
        "Notice that the three individual outputs `(2,3)`, `2`, and `array([[5, 4],[2, 5], [3,6]])` are themselves output as a tuple.\n",
        "\n",
        "We will often want to apply functions to arrays.\n",
        "For instance, we can compute the\n",
        "square root of the entries using the `np.sqrt()` function:"
      ]
    },
    {
      "cell_type": "code",
      "execution_count": null,
      "id": "31fbaf86",
      "metadata": {
        "ExecuteTime": {
          "end_time": "2025-01-09T11:52:28.354792Z",
          "start_time": "2025-01-09T11:52:28.352759Z"
        },
        "id": "31fbaf86"
      },
      "outputs": [],
      "source": [
        "np.sqrt(x)\n"
      ]
    },
    {
      "cell_type": "markdown",
      "id": "83bd2725",
      "metadata": {
        "id": "83bd2725"
      },
      "source": [
        "We can also square the elements:"
      ]
    },
    {
      "cell_type": "code",
      "execution_count": null,
      "id": "c0e63f89",
      "metadata": {
        "ExecuteTime": {
          "end_time": "2025-01-09T11:52:28.371316Z",
          "start_time": "2025-01-09T11:52:28.369234Z"
        },
        "id": "c0e63f89"
      },
      "outputs": [],
      "source": [
        "x**2\n"
      ]
    },
    {
      "cell_type": "markdown",
      "id": "bc4bfbf4",
      "metadata": {
        "id": "bc4bfbf4"
      },
      "source": [
        "We can compute the square roots using the same notation, raising to the power of $1/2$ instead of 2."
      ]
    },
    {
      "cell_type": "code",
      "execution_count": null,
      "id": "365d1248",
      "metadata": {
        "ExecuteTime": {
          "end_time": "2025-01-09T11:52:28.403317Z",
          "start_time": "2025-01-09T11:52:28.400918Z"
        },
        "lines_to_next_cell": 2,
        "id": "365d1248"
      },
      "outputs": [],
      "source": [
        "x**0.5\n"
      ]
    },
    {
      "cell_type": "markdown",
      "id": "ae4a5f89",
      "metadata": {
        "id": "ae4a5f89"
      },
      "source": [
        "Throughout this book, we will often want to generate random data.\n",
        "The `np.random.normal()`  function generates a vector of random\n",
        "normal variables. We can learn more about this function by looking at the help page, via a call to `np.random.normal?`.\n",
        "The first line of the help page  reads `normal(loc=0.0, scale=1.0, size=None)`.\n",
        " This  *signature* line tells us that the function's arguments are  `loc`, `scale`, and `size`. These are *keyword* arguments, which means that when they are passed into\n",
        " the function, they can be referred to by name (in any order). {`Python` also uses *positional* arguments. Positional arguments do not need to use a keyword. To see an example, type in `np.sum?`. We see that `a` is a positional argument, i.e. this function assumes that the first unnamed argument that it receives is the array to be summed. By contrast, `axis` and `dtype` are keyword arguments: the position in which these arguments are entered into `np.sum()` does not matter.}\n",
        " By default, this function will generate random normal variable(s) with mean (`loc`) $0$ and standard deviation (`scale`) $1$; furthermore,\n",
        " a single random variable will be generated unless the argument to `size` is changed.\n",
        "\n",
        "We now generate 50 independent random variables from a $N(0,1)$ distribution."
      ]
    },
    {
      "cell_type": "code",
      "execution_count": null,
      "id": "e2756bb9",
      "metadata": {
        "ExecuteTime": {
          "end_time": "2025-01-09T11:52:28.423302Z",
          "start_time": "2025-01-09T11:52:28.421233Z"
        },
        "id": "e2756bb9"
      },
      "outputs": [],
      "source": [
        "x = np.random.normal(size=50)\n",
        "x\n"
      ]
    },
    {
      "cell_type": "markdown",
      "id": "3ede7b52",
      "metadata": {
        "id": "3ede7b52"
      },
      "source": [
        "We create an array `y` by adding an independent $N(50,1)$ random variable to each element of `x`."
      ]
    },
    {
      "cell_type": "code",
      "execution_count": null,
      "id": "d336dde1",
      "metadata": {
        "ExecuteTime": {
          "end_time": "2025-01-09T11:52:28.452158Z",
          "start_time": "2025-01-09T11:52:28.450554Z"
        },
        "lines_to_next_cell": 0,
        "id": "d336dde1"
      },
      "outputs": [],
      "source": [
        "y = x + np.random.normal(loc=50, scale=1, size=50)"
      ]
    },
    {
      "cell_type": "markdown",
      "id": "53428bb4",
      "metadata": {
        "id": "53428bb4"
      },
      "source": [
        "The `np.corrcoef()` function computes the correlation matrix between `x` and `y`. The off-diagonal elements give the\n",
        "correlation between `x` and `y`."
      ]
    },
    {
      "cell_type": "code",
      "execution_count": null,
      "id": "cad26f2b",
      "metadata": {
        "ExecuteTime": {
          "end_time": "2025-01-09T11:52:28.467881Z",
          "start_time": "2025-01-09T11:52:28.465882Z"
        },
        "id": "cad26f2b"
      },
      "outputs": [],
      "source": [
        "np.corrcoef(x, y)"
      ]
    },
    {
      "cell_type": "markdown",
      "id": "69e56b17",
      "metadata": {
        "id": "69e56b17"
      },
      "source": [
        "If you're following along in your own `Jupyter` notebook, then you probably noticed that you got a different set of results when you ran the past few\n",
        "commands. In particular,\n",
        " each\n",
        "time we call `np.random.normal()`, we will get a different answer, as shown in the following example."
      ]
    },
    {
      "cell_type": "code",
      "execution_count": null,
      "id": "a621aa6c",
      "metadata": {
        "ExecuteTime": {
          "end_time": "2025-01-09T11:52:28.494123Z",
          "start_time": "2025-01-09T11:52:28.492310Z"
        },
        "lines_to_next_cell": 0,
        "id": "a621aa6c"
      },
      "outputs": [],
      "source": [
        "print(np.random.normal(scale=5, size=2))\n",
        "print(np.random.normal(scale=5, size=2))\n"
      ]
    },
    {
      "cell_type": "markdown",
      "id": "ca8af484",
      "metadata": {
        "id": "ca8af484"
      },
      "source": [
        "    "
      ]
    },
    {
      "cell_type": "markdown",
      "id": "ab2a78f2",
      "metadata": {
        "id": "ab2a78f2"
      },
      "source": [
        "In order to ensure that our code provides exactly the same results\n",
        "each time it is run, we can set a *random seed*\n",
        "using the\n",
        "`np.random.default_rng()` function.\n",
        "This function takes an arbitrary, user-specified integer argument. If we set a random seed before\n",
        "generating random data, then re-running our code will yield the same results. The\n",
        "object `rng` has essentially all the random number generating methods found in `np.random`. Hence, to\n",
        "generate normal data we use `rng.normal()`."
      ]
    },
    {
      "cell_type": "code",
      "execution_count": null,
      "id": "8b4cf04d",
      "metadata": {
        "ExecuteTime": {
          "end_time": "2025-01-09T11:52:28.547237Z",
          "start_time": "2025-01-09T11:52:28.545327Z"
        },
        "id": "8b4cf04d"
      },
      "outputs": [],
      "source": [
        "rng = np.random.default_rng(1303)\n",
        "print(rng.normal(scale=5, size=2))\n",
        "rng2 = np.random.default_rng(1303)\n",
        "print(rng2.normal(scale=5, size=2))"
      ]
    },
    {
      "cell_type": "markdown",
      "id": "e2b7be44",
      "metadata": {
        "id": "e2b7be44"
      },
      "source": [
        "Throughout the labs in this book, we use `np.random.default_rng()`  whenever we\n",
        "perform calculations involving random quantities within `numpy`.  In principle, this\n",
        "should enable the reader to exactly reproduce the stated results. However, as new versions of `numpy` become available, it is possible\n",
        "that some small discrepancies may occur between the output\n",
        "in the labs and the output\n",
        "from `numpy`.\n",
        "\n",
        "The `np.mean()`,  `np.var()`, and `np.std()`  functions can be used\n",
        "to compute the mean, variance, and standard deviation of arrays.  These functions are also\n",
        "available as methods on the arrays."
      ]
    },
    {
      "cell_type": "code",
      "execution_count": null,
      "id": "4b80757c",
      "metadata": {
        "ExecuteTime": {
          "end_time": "2025-01-09T11:52:28.554270Z",
          "start_time": "2025-01-09T11:52:28.552317Z"
        },
        "lines_to_next_cell": 0,
        "id": "4b80757c"
      },
      "outputs": [],
      "source": [
        "rng = np.random.default_rng(3)\n",
        "y = rng.standard_normal(10)\n",
        "np.mean(y), y.mean()"
      ]
    },
    {
      "cell_type": "markdown",
      "id": "89f3df11",
      "metadata": {
        "id": "89f3df11"
      },
      "source": [
        "    \n"
      ]
    },
    {
      "cell_type": "code",
      "execution_count": null,
      "id": "1e06f53d",
      "metadata": {
        "ExecuteTime": {
          "end_time": "2025-01-09T11:52:28.587183Z",
          "start_time": "2025-01-09T11:52:28.584957Z"
        },
        "lines_to_next_cell": 2,
        "id": "1e06f53d"
      },
      "outputs": [],
      "source": [
        "np.var(y), y.var(), np.mean((y - y.mean())**2)"
      ]
    },
    {
      "cell_type": "markdown",
      "id": "8e7619e2",
      "metadata": {
        "id": "8e7619e2"
      },
      "source": [
        "Notice that by default `np.var()` divides by the sample size $n$ rather\n",
        "than $n-1$; see the `ddof` argument in `np.var?`.\n"
      ]
    },
    {
      "cell_type": "code",
      "execution_count": null,
      "id": "2499a37e",
      "metadata": {
        "ExecuteTime": {
          "end_time": "2025-01-09T11:52:28.612735Z",
          "start_time": "2025-01-09T11:52:28.610458Z"
        },
        "id": "2499a37e"
      },
      "outputs": [],
      "source": [
        "np.sqrt(np.var(y)), np.std(y)"
      ]
    },
    {
      "cell_type": "markdown",
      "id": "cd24656d",
      "metadata": {
        "id": "cd24656d"
      },
      "source": [
        "The `np.mean()`,  `np.var()`, and `np.std()` functions can also be applied to the rows and columns of a matrix.\n",
        "To see this, we construct a $10 \\times 3$ matrix of $N(0,1)$ random variables, and consider computing its row sums."
      ]
    },
    {
      "cell_type": "code",
      "execution_count": null,
      "id": "3c308346",
      "metadata": {
        "ExecuteTime": {
          "end_time": "2025-01-09T11:52:28.636863Z",
          "start_time": "2025-01-09T11:52:28.634686Z"
        },
        "id": "3c308346"
      },
      "outputs": [],
      "source": [
        "X = rng.standard_normal((10, 3))\n",
        "X"
      ]
    },
    {
      "cell_type": "markdown",
      "id": "11b499e9",
      "metadata": {
        "id": "11b499e9"
      },
      "source": [
        "Since arrays are row-major ordered, the first axis, i.e. `axis=0`, refers to its rows. We pass this argument into the `mean()` method for the object `X`."
      ]
    },
    {
      "cell_type": "code",
      "execution_count": null,
      "id": "7b5e8fcd",
      "metadata": {
        "ExecuteTime": {
          "end_time": "2025-01-09T11:52:28.674771Z",
          "start_time": "2025-01-09T11:52:28.672646Z"
        },
        "id": "7b5e8fcd"
      },
      "outputs": [],
      "source": [
        "X.mean(axis=0)"
      ]
    },
    {
      "cell_type": "markdown",
      "id": "d2617ab3",
      "metadata": {
        "id": "d2617ab3"
      },
      "source": [
        "The following yields the same result."
      ]
    },
    {
      "cell_type": "code",
      "execution_count": null,
      "id": "157d4a21",
      "metadata": {
        "ExecuteTime": {
          "end_time": "2025-01-09T11:52:28.717610Z",
          "start_time": "2025-01-09T11:52:28.715716Z"
        },
        "lines_to_next_cell": 0,
        "id": "157d4a21"
      },
      "outputs": [],
      "source": [
        "X.mean(0)"
      ]
    },
    {
      "cell_type": "markdown",
      "id": "cdaef318",
      "metadata": {
        "id": "cdaef318"
      },
      "source": [
        "    "
      ]
    },
    {
      "cell_type": "markdown",
      "id": "e24e3949",
      "metadata": {
        "id": "e24e3949"
      },
      "source": [
        "## Graphics\n",
        "In `Python`, common practice is to use  the library\n",
        "`matplotlib` for graphics.\n",
        "However, since `Python` was not written with data analysis in mind,\n",
        "  the notion of plotting is not intrinsic to the language.\n",
        "We will use the `subplots()` function\n",
        "from `matplotlib.pyplot` to create a figure and the\n",
        "axes onto which we plot our data.\n",
        "For many more examples of how to make plots in `Python`,\n",
        "readers are encouraged to visit [matplotlib.org/stable/gallery/](https://matplotlib.org/stable/gallery/index.html).\n",
        "\n",
        "In `matplotlib`, a plot consists of a *figure* and one or more *axes*. You can think of the figure as the blank canvas upon which\n",
        "one or more plots will be displayed: it is the entire plotting window.\n",
        "The *axes* contain important information about each plot, such as its $x$- and $y$-axis labels,\n",
        "title,  and more. (Note that in `matplotlib`, the word *axes* is not the plural of *axis*: a plot's *axes* contains much more information\n",
        "than just the $x$-axis and  the $y$-axis.)\n",
        "\n",
        "We begin by importing the `subplots()` function\n",
        "from `matplotlib`. We use this function\n",
        "throughout when creating figures.\n",
        "The function returns a tuple of length two: a figure\n",
        "object as well as the relevant axes object. We will typically\n",
        "pass `figsize` as a keyword argument.\n",
        "Having created our axes, we attempt our first plot using its  `plot()` method.\n",
        "To learn more about it,\n",
        "type `ax.plot?`."
      ]
    },
    {
      "cell_type": "code",
      "execution_count": null,
      "id": "8b11e94e",
      "metadata": {
        "ExecuteTime": {
          "end_time": "2025-01-09T11:52:28.803137Z",
          "start_time": "2025-01-09T11:52:28.766229Z"
        },
        "id": "8b11e94e"
      },
      "outputs": [],
      "source": [
        "from matplotlib.pyplot import subplots\n",
        "fig, ax = subplots(figsize=(8, 8))\n",
        "x = rng.standard_normal(100)\n",
        "y = rng.standard_normal(100)\n",
        "ax.plot(x, y);\n"
      ]
    },
    {
      "cell_type": "markdown",
      "id": "fd6d918b",
      "metadata": {
        "id": "fd6d918b"
      },
      "source": [
        "We pause here to note that we have *unpacked* the tuple of length two returned by `subplots()` into the two distinct\n",
        "variables `fig` and `ax`. Unpacking\n",
        "is typically preferred to the following equivalent but slightly more verbose code:"
      ]
    },
    {
      "cell_type": "code",
      "execution_count": null,
      "id": "04eb327c",
      "metadata": {
        "ExecuteTime": {
          "end_time": "2025-01-09T11:52:28.843078Z",
          "start_time": "2025-01-09T11:52:28.809810Z"
        },
        "id": "04eb327c"
      },
      "outputs": [],
      "source": [
        "output = subplots(figsize=(8, 8))\n",
        "fig = output[0]\n",
        "ax = output[1]"
      ]
    },
    {
      "cell_type": "markdown",
      "id": "d33f0557",
      "metadata": {
        "id": "d33f0557"
      },
      "source": [
        "We see that our earlier cell produced a line plot, which is the default. To create a scatterplot, we provide an additional argument to `ax.plot()`, indicating that circles should be displayed."
      ]
    },
    {
      "cell_type": "code",
      "execution_count": null,
      "id": "e678d266",
      "metadata": {
        "ExecuteTime": {
          "end_time": "2025-01-09T11:52:28.895919Z",
          "start_time": "2025-01-09T11:52:28.863383Z"
        },
        "lines_to_next_cell": 0,
        "id": "e678d266"
      },
      "outputs": [],
      "source": [
        "fig, ax = subplots(figsize=(8, 8))\n",
        "ax.plot(x, y, 'o');"
      ]
    },
    {
      "cell_type": "markdown",
      "id": "63ca64a5",
      "metadata": {
        "id": "63ca64a5"
      },
      "source": [
        "Different values\n",
        "of this additional argument can be used to produce different colored lines\n",
        "as well as different linestyles.\n"
      ]
    },
    {
      "cell_type": "markdown",
      "id": "aae16908",
      "metadata": {
        "id": "aae16908"
      },
      "source": [
        "As an alternative, we could use the  `ax.scatter()` function to create a scatterplot."
      ]
    },
    {
      "cell_type": "code",
      "execution_count": null,
      "id": "b4cff8b7",
      "metadata": {
        "ExecuteTime": {
          "end_time": "2025-01-09T11:52:28.945047Z",
          "start_time": "2025-01-09T11:52:28.910482Z"
        },
        "id": "b4cff8b7"
      },
      "outputs": [],
      "source": [
        "fig, ax = subplots(figsize=(8, 8))\n",
        "ax.scatter(x, y, marker='o');"
      ]
    },
    {
      "cell_type": "markdown",
      "id": "00287305",
      "metadata": {
        "id": "00287305"
      },
      "source": [
        "Notice that in the code blocks above, we have ended\n",
        "the last line with a semicolon. This prevents `ax.plot(x, y)` from printing\n",
        "text  to the notebook. However, it does not prevent a plot from being produced.\n",
        " If we omit the trailing semi-colon, then we obtain the following output:  "
      ]
    },
    {
      "cell_type": "code",
      "execution_count": null,
      "id": "9e59d427",
      "metadata": {
        "ExecuteTime": {
          "end_time": "2025-01-09T11:52:28.986491Z",
          "start_time": "2025-01-09T11:52:28.951764Z"
        },
        "lines_to_next_cell": 0,
        "id": "9e59d427"
      },
      "outputs": [],
      "source": [
        "fig, ax = subplots(figsize=(8, 8))\n",
        "ax.scatter(x, y, marker='o')\n"
      ]
    },
    {
      "cell_type": "markdown",
      "id": "a429c138",
      "metadata": {
        "id": "a429c138"
      },
      "source": [
        "In what follows, we will use\n",
        " trailing semicolons whenever the text that would be output is not\n",
        "germane to the discussion at hand.\n",
        "\n",
        "\n",
        "\n"
      ]
    },
    {
      "cell_type": "markdown",
      "id": "c1ca1f34",
      "metadata": {
        "id": "c1ca1f34"
      },
      "source": [
        "To label our plot, we  make use of the `set_xlabel()`,  `set_ylabel()`, and  `set_title()` methods\n",
        "of `ax`.\n",
        "  "
      ]
    },
    {
      "cell_type": "code",
      "execution_count": null,
      "id": "c7408ab0",
      "metadata": {
        "ExecuteTime": {
          "end_time": "2025-01-09T11:52:29.034498Z",
          "start_time": "2025-01-09T11:52:28.994113Z"
        },
        "id": "c7408ab0"
      },
      "outputs": [],
      "source": [
        "fig, ax = subplots(figsize=(8, 8))\n",
        "ax.scatter(x, y, marker='o')\n",
        "ax.set_xlabel(\"this is the x-axis\")\n",
        "ax.set_ylabel(\"this is the y-axis\")\n",
        "ax.set_title(\"Plot of X vs Y\");"
      ]
    },
    {
      "cell_type": "markdown",
      "id": "7628bbf3",
      "metadata": {
        "id": "7628bbf3"
      },
      "source": [
        " Having access to the figure object `fig` itself means that we can go in and change some aspects and then redisplay it. Here, we change\n",
        "  the size from `(8, 8)` to `(12, 3)`.\n"
      ]
    },
    {
      "cell_type": "code",
      "execution_count": null,
      "id": "52bac447",
      "metadata": {
        "ExecuteTime": {
          "end_time": "2025-01-09T11:52:29.063370Z",
          "start_time": "2025-01-09T11:52:29.038574Z"
        },
        "lines_to_next_cell": 0,
        "id": "52bac447"
      },
      "outputs": [],
      "source": [
        "fig.set_size_inches(12,3)\n",
        "fig"
      ]
    },
    {
      "cell_type": "markdown",
      "id": "607babe6",
      "metadata": {
        "id": "607babe6"
      },
      "source": [
        ""
      ]
    },
    {
      "cell_type": "markdown",
      "id": "647f6b09",
      "metadata": {
        "id": "647f6b09"
      },
      "source": [
        "Occasionally we will want to create several plots within a figure. This can be\n",
        "achieved by passing additional arguments to `subplots()`.\n",
        "Below, we create a  $2 \\times 3$ grid of plots\n",
        "in a figure of size determined by the `figsize` argument. In such\n",
        "situations, there is often a relationship between the axes in the plots. For example,\n",
        "all plots may have a common $x$-axis. The `subplots()` function can automatically handle\n",
        "this situation when passed the keyword argument `sharex=True`.\n",
        "The `axes` object below is an array pointing to different plots in the figure."
      ]
    },
    {
      "cell_type": "code",
      "execution_count": null,
      "id": "0e4d4d4e",
      "metadata": {
        "ExecuteTime": {
          "end_time": "2025-01-09T11:52:29.179283Z",
          "start_time": "2025-01-09T11:52:29.067561Z"
        },
        "lines_to_next_cell": 0,
        "id": "0e4d4d4e"
      },
      "outputs": [],
      "source": [
        "fig, axes = subplots(nrows=2,\n",
        "                     ncols=3,\n",
        "                     figsize=(15, 5))"
      ]
    },
    {
      "cell_type": "markdown",
      "id": "ef1848a8",
      "metadata": {
        "id": "ef1848a8"
      },
      "source": [
        "We now produce a scatter plot with `'o'` in the second column of the first row and\n",
        "a scatter plot with `'+'` in the third column of the second row."
      ]
    },
    {
      "cell_type": "code",
      "execution_count": null,
      "id": "12d9932f",
      "metadata": {
        "ExecuteTime": {
          "end_time": "2025-01-09T11:52:29.263908Z",
          "start_time": "2025-01-09T11:52:29.192070Z"
        },
        "lines_to_next_cell": 0,
        "id": "12d9932f"
      },
      "outputs": [],
      "source": [
        "axes[0,1].plot(x, y, 'o')\n",
        "axes[1,2].scatter(x, y, marker='+')\n",
        "fig"
      ]
    },
    {
      "cell_type": "markdown",
      "id": "f52da11d",
      "metadata": {
        "id": "f52da11d"
      },
      "source": [
        "Type  `subplots?` to learn more about\n",
        "`subplots()`.\n",
        "\n",
        "\n"
      ]
    },
    {
      "cell_type": "markdown",
      "id": "79a27e69",
      "metadata": {
        "id": "79a27e69"
      },
      "source": [
        "To save the output of `fig`, we call its `savefig()`\n",
        "method. The argument `dpi` is the dots per inch, used\n",
        "to determine how large the figure will be in pixels."
      ]
    },
    {
      "cell_type": "code",
      "execution_count": null,
      "id": "17d46f32",
      "metadata": {
        "ExecuteTime": {
          "end_time": "2025-01-09T11:52:29.492567Z",
          "start_time": "2025-01-09T11:52:29.304004Z"
        },
        "lines_to_next_cell": 2,
        "id": "17d46f32"
      },
      "outputs": [],
      "source": [
        "fig.savefig(\"Figure.png\", dpi=400)\n",
        "fig.savefig(\"Figure.pdf\", dpi=200);\n"
      ]
    },
    {
      "cell_type": "markdown",
      "id": "21e9bb0a",
      "metadata": {
        "id": "21e9bb0a"
      },
      "source": [
        "We can continue to modify `fig` using step-by-step updates; for example, we can modify the range of the $x$-axis, re-save the figure, and even re-display it."
      ]
    },
    {
      "cell_type": "code",
      "execution_count": null,
      "id": "24a361a3",
      "metadata": {
        "ExecuteTime": {
          "end_time": "2025-01-09T11:52:29.588085Z",
          "start_time": "2025-01-09T11:52:29.495592Z"
        },
        "id": "24a361a3"
      },
      "outputs": [],
      "source": [
        "axes[0,1].set_xlim([-1,1])\n",
        "fig.savefig(\"Figure_updated.jpg\")\n",
        "fig"
      ]
    },
    {
      "cell_type": "markdown",
      "id": "88168a08",
      "metadata": {
        "id": "88168a08"
      },
      "source": [
        "We now create some more sophisticated plots. The\n",
        "`ax.contour()` method  produces a  *contour plot*\n",
        "in order to represent three-dimensional data, similar to a\n",
        "topographical map.  It takes three arguments:\n",
        "\n",
        "* A vector of `x` values (the first dimension),\n",
        "* A vector of `y` values (the second dimension), and\n",
        "* A matrix whose elements correspond to the `z` value (the third\n",
        "dimension) for each pair of `(x,y)` coordinates.\n",
        "\n",
        "To create `x` and `y`, we’ll use the command  `np.linspace(a, b, n)`,\n",
        "which returns a vector of `n` numbers starting at  `a` and  ending at `b`."
      ]
    },
    {
      "cell_type": "code",
      "execution_count": null,
      "id": "facce2ec",
      "metadata": {
        "ExecuteTime": {
          "end_time": "2025-01-09T11:52:29.626311Z",
          "start_time": "2025-01-09T11:52:29.591815Z"
        },
        "lines_to_next_cell": 0,
        "id": "facce2ec"
      },
      "outputs": [],
      "source": [
        "fig, ax = subplots(figsize=(8, 8))\n",
        "x = np.linspace(-np.pi, np.pi, 50)\n",
        "y = x\n",
        "f = np.multiply.outer(np.cos(y), 1 / (1 + x**2))\n",
        "ax.contour(x, y, f);\n"
      ]
    },
    {
      "cell_type": "markdown",
      "id": "343fd149",
      "metadata": {
        "id": "343fd149"
      },
      "source": [
        "We can increase the resolution by adding more levels to the image."
      ]
    },
    {
      "cell_type": "code",
      "execution_count": null,
      "id": "1683862d",
      "metadata": {
        "ExecuteTime": {
          "end_time": "2025-01-09T11:52:29.677028Z",
          "start_time": "2025-01-09T11:52:29.633185Z"
        },
        "lines_to_next_cell": 0,
        "id": "1683862d"
      },
      "outputs": [],
      "source": [
        "fig, ax = subplots(figsize=(8, 8))\n",
        "ax.contour(x, y, f, levels=45);"
      ]
    },
    {
      "cell_type": "markdown",
      "id": "afe1e3a4",
      "metadata": {
        "id": "afe1e3a4"
      },
      "source": [
        "To fine-tune the output of the\n",
        "`ax.contour()`  function, take a\n",
        "look at the help file by typing `ax.contour?`.\n",
        "\n",
        "The `ax.imshow()`  method is similar to\n",
        "`ax.contour()`, except that it produces a color-coded plot\n",
        "whose colors depend on the `z` value. This is known as a\n",
        "*heatmap*, and is sometimes used to plot temperature in\n",
        "weather forecasts."
      ]
    },
    {
      "cell_type": "code",
      "execution_count": null,
      "id": "abd902e8",
      "metadata": {
        "ExecuteTime": {
          "end_time": "2025-01-09T11:52:29.725421Z",
          "start_time": "2025-01-09T11:52:29.684591Z"
        },
        "lines_to_next_cell": 2,
        "id": "abd902e8"
      },
      "outputs": [],
      "source": [
        "fig, ax = subplots(figsize=(8, 8))\n",
        "ax.imshow(f);\n"
      ]
    },
    {
      "cell_type": "markdown",
      "id": "d520787e",
      "metadata": {
        "id": "d520787e"
      },
      "source": [
        "## Sequences and Slice Notation"
      ]
    },
    {
      "cell_type": "markdown",
      "id": "bc5c0402",
      "metadata": {
        "id": "bc5c0402"
      },
      "source": [
        "As seen above, the\n",
        "function `np.linspace()`  can be used to create a sequence\n",
        "of numbers."
      ]
    },
    {
      "cell_type": "code",
      "execution_count": null,
      "id": "5d59f1a1",
      "metadata": {
        "ExecuteTime": {
          "end_time": "2025-01-09T11:52:29.731001Z",
          "start_time": "2025-01-09T11:52:29.729049Z"
        },
        "lines_to_next_cell": 2,
        "id": "5d59f1a1"
      },
      "outputs": [],
      "source": [
        "seq1 = np.linspace(0, 10, 11)\n",
        "seq1\n"
      ]
    },
    {
      "cell_type": "markdown",
      "id": "3db9e9d1",
      "metadata": {
        "id": "3db9e9d1"
      },
      "source": [
        "The function `np.arange()`\n",
        " returns a sequence of numbers spaced out by `step`. If `step` is not specified, then a default value of $1$ is used. Let's create a sequence\n",
        " that starts at $0$ and ends at $10$."
      ]
    },
    {
      "cell_type": "code",
      "execution_count": null,
      "id": "43939bf3",
      "metadata": {
        "ExecuteTime": {
          "end_time": "2025-01-09T11:52:29.753972Z",
          "start_time": "2025-01-09T11:52:29.748997Z"
        },
        "id": "43939bf3"
      },
      "outputs": [],
      "source": [
        "seq2 = np.arange(0, 10)\n",
        "seq2\n"
      ]
    },
    {
      "cell_type": "markdown",
      "id": "1d1ef4ce",
      "metadata": {
        "id": "1d1ef4ce"
      },
      "source": [
        "Why isn't $10$ output above? This has to do with *slice* notation in `Python`.\n",
        "Slice notation  \n",
        "is used to index sequences such as lists, tuples and arrays.\n",
        "Suppose we want to retrieve the fourth through sixth (inclusive) entries\n",
        "of a string. We obtain a slice of the string using the indexing  notation  `[3:6]`."
      ]
    },
    {
      "cell_type": "code",
      "execution_count": null,
      "id": "8004cba3",
      "metadata": {
        "ExecuteTime": {
          "end_time": "2025-01-09T11:52:29.773984Z",
          "start_time": "2025-01-09T11:52:29.771961Z"
        },
        "lines_to_next_cell": 0,
        "id": "8004cba3"
      },
      "outputs": [],
      "source": [
        "\"hello world\"[3:6]"
      ]
    },
    {
      "cell_type": "markdown",
      "id": "74d0e597",
      "metadata": {
        "id": "74d0e597"
      },
      "source": [
        "In the code block above, the notation `3:6` is shorthand for  `slice(3,6)` when used inside\n",
        "`[]`."
      ]
    },
    {
      "cell_type": "code",
      "execution_count": null,
      "id": "ed4fd312",
      "metadata": {
        "ExecuteTime": {
          "end_time": "2025-01-09T11:52:29.803394Z",
          "start_time": "2025-01-09T11:52:29.801619Z"
        },
        "id": "ed4fd312"
      },
      "outputs": [],
      "source": [
        "\"hello world\"[slice(3,6)]\n"
      ]
    },
    {
      "cell_type": "markdown",
      "id": "603d1e8c",
      "metadata": {
        "id": "603d1e8c"
      },
      "source": [
        "You might have expected  `slice(3,6)` to output the fourth through seventh characters in the text string (recalling that  `Python` begins its indexing at zero),  but instead it output  the fourth through sixth.\n",
        " This also explains why the earlier `np.arange(0, 10)` command output only the integers from $0$ to $9$.\n",
        "See the documentation `slice?` for useful options in creating slices.\n",
        "\n",
        "    \n",
        "\n",
        "\n",
        "\n",
        "    \n",
        "\n",
        "\n",
        "    \n",
        "\n",
        "\n",
        "\n",
        "    \n",
        "\n",
        "\n",
        "\n",
        "    \n",
        "\n",
        "\n",
        "    \n"
      ]
    },
    {
      "cell_type": "markdown",
      "id": "a47ec7f3",
      "metadata": {
        "id": "a47ec7f3"
      },
      "source": [
        "## Indexing Data\n",
        "To begin, we  create a two-dimensional `numpy` array."
      ]
    },
    {
      "cell_type": "code",
      "execution_count": null,
      "id": "a98b539d",
      "metadata": {
        "ExecuteTime": {
          "end_time": "2025-01-09T11:52:29.833310Z",
          "start_time": "2025-01-09T11:52:29.831156Z"
        },
        "id": "a98b539d"
      },
      "outputs": [],
      "source": [
        "A = np.array(np.arange(16)).reshape((4, 4))\n",
        "A\n"
      ]
    },
    {
      "cell_type": "markdown",
      "id": "e014c680",
      "metadata": {
        "id": "e014c680"
      },
      "source": [
        "Typing `A[1,2]` retrieves the element corresponding to the second row and third\n",
        "column. (As usual, `Python` indexes from $0.$)"
      ]
    },
    {
      "cell_type": "code",
      "execution_count": null,
      "id": "db2991e9",
      "metadata": {
        "ExecuteTime": {
          "end_time": "2025-01-09T11:52:29.897644Z",
          "start_time": "2025-01-09T11:52:29.895501Z"
        },
        "id": "db2991e9"
      },
      "outputs": [],
      "source": [
        "A[1,2]\n"
      ]
    },
    {
      "cell_type": "markdown",
      "id": "ae24e3e1",
      "metadata": {
        "id": "ae24e3e1"
      },
      "source": [
        "The first number after the open-bracket symbol `[`\n",
        " refers to the row, and the second number refers to the column.\n",
        "\n",
        "### Indexing Rows, Columns, and Submatrices\n",
        " To select multiple rows at a time, we can pass in a list\n",
        "  specifying our selection. For instance, `[1,3]` will retrieve the second and fourth rows:"
      ]
    },
    {
      "cell_type": "code",
      "execution_count": null,
      "id": "9a28347c",
      "metadata": {
        "ExecuteTime": {
          "end_time": "2025-01-09T11:52:30.117707Z",
          "start_time": "2025-01-09T11:52:30.115736Z"
        },
        "id": "9a28347c"
      },
      "outputs": [],
      "source": [
        "A[[1,3]]\n"
      ]
    },
    {
      "cell_type": "markdown",
      "id": "2f210192",
      "metadata": {
        "id": "2f210192"
      },
      "source": [
        "To select the first and third columns, we pass in  `[0,2]` as the second argument in the square brackets.\n",
        "In this case we need to supply the first argument `:`\n",
        "which selects all rows."
      ]
    },
    {
      "cell_type": "code",
      "execution_count": null,
      "id": "8dd02706",
      "metadata": {
        "ExecuteTime": {
          "end_time": "2025-01-09T11:52:30.433375Z",
          "start_time": "2025-01-09T11:52:30.431370Z"
        },
        "id": "8dd02706"
      },
      "outputs": [],
      "source": [
        "A[:,[0,2]]\n"
      ]
    },
    {
      "cell_type": "markdown",
      "id": "bf681d53",
      "metadata": {
        "id": "bf681d53"
      },
      "source": [
        "Now, suppose that we want to select the submatrix made up of the second and fourth\n",
        "rows as well as the first and third columns. This is where\n",
        "indexing gets slightly tricky. It is natural to try  to use lists to retrieve the rows and columns:"
      ]
    },
    {
      "cell_type": "code",
      "execution_count": null,
      "id": "90e43051",
      "metadata": {
        "ExecuteTime": {
          "end_time": "2025-01-09T11:52:30.475634Z",
          "start_time": "2025-01-09T11:52:30.473721Z"
        },
        "id": "90e43051"
      },
      "outputs": [],
      "source": [
        "A[[1,3],[0,2]]\n"
      ]
    },
    {
      "cell_type": "markdown",
      "id": "24c1171f",
      "metadata": {
        "id": "24c1171f"
      },
      "source": [
        " Oops --- what happened? We got a one-dimensional array of length two identical to"
      ]
    },
    {
      "cell_type": "code",
      "execution_count": null,
      "id": "6715713f",
      "metadata": {
        "ExecuteTime": {
          "end_time": "2025-01-09T11:52:30.533331Z",
          "start_time": "2025-01-09T11:52:30.531192Z"
        },
        "id": "6715713f"
      },
      "outputs": [],
      "source": [
        "np.array([A[1,0],A[3,2]])\n"
      ]
    },
    {
      "cell_type": "markdown",
      "id": "87cb8f3e",
      "metadata": {
        "id": "87cb8f3e"
      },
      "source": [
        " Similarly,  the following code fails to extract the submatrix comprised of the second and fourth rows and the first, third, and fourth columns:"
      ]
    },
    {
      "cell_type": "code",
      "execution_count": null,
      "id": "0a2ec981",
      "metadata": {
        "ExecuteTime": {
          "end_time": "2025-01-09T11:52:30.576492Z",
          "start_time": "2025-01-09T11:52:30.575083Z"
        },
        "id": "0a2ec981"
      },
      "outputs": [],
      "source": [
        "A[[1,3],[0,2,3]]\n"
      ]
    },
    {
      "cell_type": "markdown",
      "id": "08164d54",
      "metadata": {
        "id": "08164d54"
      },
      "source": [
        "We can see what has gone wrong here. When supplied with two indexing lists, the `numpy` interpretation is that these provide pairs of $i,j$ indices for a series of entries. That is why the pair of lists must have the same length. However, that was not our intent, since we are looking for a submatrix.\n",
        "\n",
        "One easy way to do this is as follows. We first create a submatrix by subsetting the rows of `A`, and then on the fly we make a further submatrix by subsetting its columns.\n"
      ]
    },
    {
      "cell_type": "code",
      "execution_count": null,
      "id": "7af33bcc",
      "metadata": {
        "ExecuteTime": {
          "end_time": "2025-01-09T11:52:30.589598Z",
          "start_time": "2025-01-09T11:52:30.587738Z"
        },
        "lines_to_next_cell": 0,
        "id": "7af33bcc"
      },
      "outputs": [],
      "source": [
        "A[[1,3]][:,[0,2]]\n"
      ]
    },
    {
      "cell_type": "markdown",
      "id": "4f0c3bdd",
      "metadata": {
        "id": "4f0c3bdd"
      },
      "source": [
        "    "
      ]
    },
    {
      "cell_type": "markdown",
      "id": "b876d9da",
      "metadata": {
        "id": "b876d9da"
      },
      "source": [
        "There are more efficient ways of achieving the same result.\n",
        "\n",
        "The *convenience function* `np.ix_()` allows us  to extract a submatrix\n",
        "using lists, by creating an intermediate *mesh* object."
      ]
    },
    {
      "cell_type": "code",
      "execution_count": null,
      "id": "ec304448",
      "metadata": {
        "ExecuteTime": {
          "end_time": "2025-01-09T11:52:30.622072Z",
          "start_time": "2025-01-09T11:52:30.620257Z"
        },
        "lines_to_next_cell": 2,
        "id": "ec304448"
      },
      "outputs": [],
      "source": [
        "idx = np.ix_([1,3],[0,2,3])\n",
        "A[idx]\n"
      ]
    },
    {
      "cell_type": "markdown",
      "id": "19e8ae97",
      "metadata": {
        "id": "19e8ae97"
      },
      "source": [
        "Alternatively, we can subset matrices efficiently using slices.\n",
        "  \n",
        "The slice\n",
        "`1:4:2` captures the second and fourth items of a sequence, while the slice `0:3:2` captures\n",
        "the first and third items (the third element in a slice sequence is the step size)."
      ]
    },
    {
      "cell_type": "code",
      "execution_count": null,
      "id": "1953fd6f",
      "metadata": {
        "ExecuteTime": {
          "end_time": "2025-01-09T11:52:30.682322Z",
          "start_time": "2025-01-09T11:52:30.680210Z"
        },
        "lines_to_next_cell": 0,
        "id": "1953fd6f"
      },
      "outputs": [],
      "source": [
        "A[1:4:2,0:3:2]\n"
      ]
    },
    {
      "cell_type": "markdown",
      "id": "4daae00d",
      "metadata": {
        "id": "4daae00d"
      },
      "source": [
        "    "
      ]
    },
    {
      "cell_type": "markdown",
      "id": "9b0a3fcb",
      "metadata": {
        "id": "9b0a3fcb"
      },
      "source": [
        "Why are we able to retrieve a submatrix directly using slices but not using lists?\n",
        "It's because they are different `Python` types, and\n",
        "are treated differently by `numpy`.\n",
        "Slices can be used to extract objects from arbitrary sequences, such as strings, lists, and tuples, while the use of lists for indexing is more limited.\n",
        "\n",
        "\n",
        "\n",
        "\n",
        "    \n",
        "\n",
        "\n",
        "\n",
        "    \n",
        "\n",
        ""
      ]
    },
    {
      "cell_type": "markdown",
      "id": "5008cd5f",
      "metadata": {
        "id": "5008cd5f"
      },
      "source": [
        "### Boolean Indexing\n",
        "In `numpy`, a *Boolean* is a type  that equals either   `True` or  `False` (also represented as $1$ and $0$, respectively).\n",
        "The next line creates a vector of $0$'s, represented as Booleans, of length equal to the first dimension of `A`."
      ]
    },
    {
      "cell_type": "code",
      "execution_count": null,
      "id": "49d86ff4",
      "metadata": {
        "ExecuteTime": {
          "end_time": "2025-01-09T11:52:30.726658Z",
          "start_time": "2025-01-09T11:52:30.724715Z"
        },
        "lines_to_next_cell": 0,
        "id": "49d86ff4"
      },
      "outputs": [],
      "source": [
        "keep_rows = np.zeros(A.shape[0], bool)\n",
        "keep_rows"
      ]
    },
    {
      "cell_type": "markdown",
      "id": "7d0340e0",
      "metadata": {
        "id": "7d0340e0"
      },
      "source": [
        "We now set two of the elements to `True`."
      ]
    },
    {
      "cell_type": "code",
      "execution_count": null,
      "id": "9bc2e603",
      "metadata": {
        "ExecuteTime": {
          "end_time": "2025-01-09T11:52:30.790454Z",
          "start_time": "2025-01-09T11:52:30.788451Z"
        },
        "id": "9bc2e603"
      },
      "outputs": [],
      "source": [
        "keep_rows[[1,3]] = True\n",
        "keep_rows\n"
      ]
    },
    {
      "cell_type": "markdown",
      "id": "7186d484",
      "metadata": {
        "id": "7186d484"
      },
      "source": [
        "Note that the elements of `keep_rows`, when viewed as integers, are the same as the\n",
        "values of `np.array([0,1,0,1])`. Below, we use  `==` to verify their equality. When\n",
        "applied to two arrays, the `==`   operation is applied elementwise."
      ]
    },
    {
      "cell_type": "code",
      "execution_count": null,
      "id": "2c381dab",
      "metadata": {
        "ExecuteTime": {
          "end_time": "2025-01-09T11:52:30.833187Z",
          "start_time": "2025-01-09T11:52:30.829713Z"
        },
        "id": "2c381dab"
      },
      "outputs": [],
      "source": [
        "np.all(keep_rows == np.array([0,1,0,1]))\n"
      ]
    },
    {
      "cell_type": "markdown",
      "id": "74fff761",
      "metadata": {
        "id": "74fff761"
      },
      "source": [
        "(Here, the function `np.all()` has checked whether\n",
        "all entries of an array are `True`. A similar function, `np.any()`, can be used to check whether any entries of an array are `True`.)"
      ]
    },
    {
      "cell_type": "markdown",
      "id": "89858e4d",
      "metadata": {
        "id": "89858e4d"
      },
      "source": [
        "   However, even though `np.array([0,1,0,1])`  and `keep_rows` are equal according to `==`, they index different sets of rows!\n",
        "The former retrieves the first, second, first, and second rows of `A`."
      ]
    },
    {
      "cell_type": "code",
      "execution_count": null,
      "id": "d0aebd92",
      "metadata": {
        "ExecuteTime": {
          "end_time": "2025-01-09T11:52:30.855657Z",
          "start_time": "2025-01-09T11:52:30.853582Z"
        },
        "id": "d0aebd92"
      },
      "outputs": [],
      "source": [
        "A[np.array([0,1,0,1])]\n"
      ]
    },
    {
      "cell_type": "markdown",
      "id": "64720f0c",
      "metadata": {
        "id": "64720f0c"
      },
      "source": [
        " By contrast, `keep_rows` retrieves only the second and fourth rows  of `A` --- i.e. the rows for which the Boolean equals `True`.\n"
      ]
    },
    {
      "cell_type": "code",
      "execution_count": null,
      "id": "e6532bac",
      "metadata": {
        "ExecuteTime": {
          "end_time": "2025-01-09T11:52:30.893669Z",
          "start_time": "2025-01-09T11:52:30.891735Z"
        },
        "id": "e6532bac"
      },
      "outputs": [],
      "source": [
        "A[keep_rows]\n"
      ]
    },
    {
      "cell_type": "markdown",
      "id": "8b25e82a",
      "metadata": {
        "id": "8b25e82a"
      },
      "source": [
        "This example shows that Booleans and integers are treated differently by `numpy`."
      ]
    },
    {
      "cell_type": "markdown",
      "id": "77ffc714",
      "metadata": {
        "id": "77ffc714"
      },
      "source": [
        "We again make use of the `np.ix_()` function\n",
        " to create a mesh containing the second and fourth rows, and the first,  third, and fourth columns. This time, we apply the function to Booleans,\n",
        " rather than lists."
      ]
    },
    {
      "cell_type": "code",
      "execution_count": null,
      "id": "1d5d984c",
      "metadata": {
        "ExecuteTime": {
          "end_time": "2025-01-09T11:52:30.966847Z",
          "start_time": "2025-01-09T11:52:30.964465Z"
        },
        "id": "1d5d984c"
      },
      "outputs": [],
      "source": [
        "keep_cols = np.zeros(A.shape[1], bool)\n",
        "keep_cols[[0, 2, 3]] = True\n",
        "idx_bool = np.ix_(keep_rows, keep_cols)\n",
        "A[idx_bool]\n"
      ]
    },
    {
      "cell_type": "markdown",
      "id": "66e7557a",
      "metadata": {
        "id": "66e7557a"
      },
      "source": [
        "We can also mix a list with an array of Booleans in the arguments to `np.ix_()`:"
      ]
    },
    {
      "cell_type": "code",
      "execution_count": null,
      "id": "4057cec1",
      "metadata": {
        "ExecuteTime": {
          "end_time": "2025-01-09T11:52:31.025998Z",
          "start_time": "2025-01-09T11:52:31.024110Z"
        },
        "lines_to_next_cell": 0,
        "id": "4057cec1"
      },
      "outputs": [],
      "source": [
        "idx_mixed = np.ix_([1,3], keep_cols)\n",
        "A[idx_mixed]\n"
      ]
    },
    {
      "cell_type": "markdown",
      "id": "ebbf17e5",
      "metadata": {
        "id": "ebbf17e5"
      },
      "source": [
        "    "
      ]
    },
    {
      "cell_type": "markdown",
      "id": "63757cd7",
      "metadata": {
        "id": "63757cd7"
      },
      "source": [
        "For more details on indexing in `numpy`, readers are referred\n",
        "to the `numpy` tutorial mentioned earlier.\n"
      ]
    },
    {
      "cell_type": "markdown",
      "id": "9b981ffc",
      "metadata": {
        "id": "9b981ffc"
      },
      "source": [
        "## Loading Data\n",
        "\n",
        "Data sets often contain different types of data, and may have names associated with the rows or columns.\n",
        "For these reasons, they typically are best accommodated using a\n",
        " *data frame*.\n",
        " We can think of a data frame  as a sequence\n",
        "of arrays of identical length; these are the columns. Entries in the\n",
        "different arrays can be combined to form a row.\n",
        " The `pandas`\n",
        "library can be used to create and work with data frame objects."
      ]
    },
    {
      "cell_type": "markdown",
      "id": "c6b82361",
      "metadata": {
        "id": "c6b82361"
      },
      "source": [
        "### Reading in a Data Set\n",
        "\n",
        "The first step of most analyses involves importing a data set into\n",
        "`Python`.  \n",
        " Before attempting to load\n",
        "a data set, we must make sure that `Python` knows where to find the file containing it.\n",
        "If the\n",
        "file is in the same location\n",
        "as this notebook file, then we are all set.\n",
        "Otherwise,\n",
        "the command\n",
        "`os.chdir()`  can be used to *change directory*. (You will need to call `import os` before calling `os.chdir()`.)"
      ]
    },
    {
      "cell_type": "markdown",
      "id": "da79b516",
      "metadata": {
        "id": "da79b516"
      },
      "source": [
        "We will begin by reading in `Auto.csv`, available on the book website. This is a comma-separated file, and can be read in using `pd.read_csv()`:"
      ]
    },
    {
      "cell_type": "code",
      "execution_count": null,
      "id": "d13a6775",
      "metadata": {
        "ExecuteTime": {
          "end_time": "2025-01-09T11:52:31.086989Z",
          "start_time": "2025-01-09T11:52:31.082108Z"
        },
        "id": "d13a6775"
      },
      "outputs": [],
      "source": [
        "import pandas as pd\n",
        "Auto = pd.read_csv('Auto.csv')\n",
        "Auto\n"
      ]
    },
    {
      "cell_type": "markdown",
      "id": "158efde6",
      "metadata": {
        "id": "158efde6"
      },
      "source": [
        "The book website also has a whitespace-delimited version of this data, called `Auto.data`. This can be read in as follows:"
      ]
    },
    {
      "cell_type": "code",
      "execution_count": null,
      "id": "2b108225c3fb1327",
      "metadata": {
        "ExecuteTime": {
          "end_time": "2025-01-09T11:52:31.140939Z",
          "start_time": "2025-01-09T11:52:31.137958Z"
        },
        "lines_to_next_cell": 0,
        "id": "2b108225c3fb1327"
      },
      "outputs": [],
      "source": [
        "Auto = pd.read_csv('Auto.data', delim_whitespace=True)\n"
      ]
    },
    {
      "cell_type": "markdown",
      "id": "a373fcb4",
      "metadata": {
        "id": "a373fcb4"
      },
      "source": [
        " Both `Auto.csv` and `Auto.data` are simply text\n",
        "files. Before loading data into `Python`, it is a good idea to view it using\n",
        "a text editor or other software, such as Microsoft Excel.\n",
        "\n"
      ]
    },
    {
      "cell_type": "markdown",
      "id": "bba17c66",
      "metadata": {
        "id": "bba17c66"
      },
      "source": [
        "We now take a look at the column of `Auto` corresponding to the variable `horsepower`:"
      ]
    },
    {
      "cell_type": "code",
      "execution_count": null,
      "id": "7912c27e",
      "metadata": {
        "ExecuteTime": {
          "end_time": "2025-01-09T11:52:31.190281Z",
          "start_time": "2025-01-09T11:52:31.188062Z"
        },
        "lines_to_next_cell": 0,
        "id": "7912c27e"
      },
      "outputs": [],
      "source": [
        "Auto['horsepower']\n"
      ]
    },
    {
      "cell_type": "markdown",
      "id": "af443415",
      "metadata": {
        "id": "af443415"
      },
      "source": [
        "We see that the `dtype` of this column is `object`.\n",
        "It turns out that all values of the `horsepower` column were interpreted as strings when reading\n",
        "in the data.\n",
        "We can find out why by looking at the unique values."
      ]
    },
    {
      "cell_type": "code",
      "execution_count": null,
      "id": "f8078632",
      "metadata": {
        "ExecuteTime": {
          "end_time": "2025-01-09T11:52:31.239878Z",
          "start_time": "2025-01-09T11:52:31.238012Z"
        },
        "lines_to_next_cell": 0,
        "id": "f8078632"
      },
      "outputs": [],
      "source": [
        "np.unique(Auto['horsepower'])\n"
      ]
    },
    {
      "cell_type": "markdown",
      "id": "46fb50cb",
      "metadata": {
        "id": "46fb50cb"
      },
      "source": [
        "We see the culprit is the value `?`, which is being used to encode missing values.\n",
        "\n"
      ]
    },
    {
      "cell_type": "markdown",
      "id": "71e7a9fe",
      "metadata": {
        "id": "71e7a9fe"
      },
      "source": [
        "To fix the problem, we must provide `pd.read_csv()` with an argument called `na_values`.\n",
        "Now,  each instance of  `?` in the file is replaced with the\n",
        "value `np.nan`, which means *not a number*:"
      ]
    },
    {
      "cell_type": "code",
      "execution_count": null,
      "id": "4603b07a671c1c99",
      "metadata": {
        "ExecuteTime": {
          "end_time": "2025-01-09T11:52:31.302334Z",
          "start_time": "2025-01-09T11:52:31.299624Z"
        },
        "lines_to_next_cell": 2,
        "id": "4603b07a671c1c99"
      },
      "outputs": [],
      "source": [
        "Auto = pd.read_csv('Auto.data',\n",
        "                   na_values=['?'],\n",
        "                   delim_whitespace=True)\n",
        "Auto['horsepower'].sum()\n"
      ]
    },
    {
      "cell_type": "markdown",
      "id": "8aa30cf6",
      "metadata": {
        "id": "8aa30cf6"
      },
      "source": [
        "The `Auto.shape`  attribute tells us that the data has 397\n",
        "observations, or rows, and nine variables, or columns."
      ]
    },
    {
      "cell_type": "code",
      "execution_count": null,
      "id": "ae1cad4e",
      "metadata": {
        "ExecuteTime": {
          "end_time": "2025-01-09T11:52:31.337156Z",
          "start_time": "2025-01-09T11:52:31.335264Z"
        },
        "id": "ae1cad4e"
      },
      "outputs": [],
      "source": [
        "Auto.shape\n"
      ]
    },
    {
      "cell_type": "markdown",
      "id": "a699c56e",
      "metadata": {
        "id": "a699c56e"
      },
      "source": [
        "There are\n",
        "various ways to deal with  missing data.\n",
        "In this case, since only five of the rows contain missing\n",
        "observations,  we choose to use the `Auto.dropna()` method to simply remove these rows."
      ]
    },
    {
      "cell_type": "code",
      "execution_count": null,
      "id": "52eb7971",
      "metadata": {
        "ExecuteTime": {
          "end_time": "2025-01-09T11:52:31.361030Z",
          "start_time": "2025-01-09T11:52:31.358586Z"
        },
        "lines_to_next_cell": 2,
        "id": "52eb7971"
      },
      "outputs": [],
      "source": [
        "Auto_new = Auto.dropna()\n",
        "Auto_new.shape\n"
      ]
    },
    {
      "cell_type": "markdown",
      "id": "55a60e42",
      "metadata": {
        "id": "55a60e42"
      },
      "source": [
        "### Basics of Selecting Rows and Columns\n",
        "\n",
        "We can use `Auto.columns`  to check the variable names."
      ]
    },
    {
      "cell_type": "code",
      "execution_count": null,
      "id": "44829ab6",
      "metadata": {
        "ExecuteTime": {
          "end_time": "2025-01-09T11:52:31.400532Z",
          "start_time": "2025-01-09T11:52:31.398392Z"
        },
        "lines_to_next_cell": 2,
        "id": "44829ab6"
      },
      "outputs": [],
      "source": [
        "Auto = Auto_new # overwrite the previous value\n",
        "Auto.columns\n"
      ]
    },
    {
      "cell_type": "markdown",
      "id": "a397a994",
      "metadata": {
        "id": "a397a994"
      },
      "source": [
        "Accessing the rows and columns of a data frame is similar, but not identical, to accessing the rows and columns of an array.\n",
        "Recall that the first argument to the `[]` method\n",
        "is always applied to the rows of the array.  \n",
        "Similarly,\n",
        "passing in a slice to the `[]` method creates a data frame whose *rows* are determined by the slice:"
      ]
    },
    {
      "cell_type": "code",
      "execution_count": null,
      "id": "3aad1bdb",
      "metadata": {
        "ExecuteTime": {
          "end_time": "2025-01-09T11:52:31.421940Z",
          "start_time": "2025-01-09T11:52:31.418559Z"
        },
        "lines_to_next_cell": 0,
        "id": "3aad1bdb"
      },
      "outputs": [],
      "source": [
        "Auto[:3]\n"
      ]
    },
    {
      "cell_type": "markdown",
      "id": "3b42c876",
      "metadata": {
        "id": "3b42c876"
      },
      "source": [
        "Similarly, an array of Booleans can be used to subset the rows:"
      ]
    },
    {
      "cell_type": "code",
      "execution_count": null,
      "id": "ae1e9a3a",
      "metadata": {
        "ExecuteTime": {
          "end_time": "2025-01-09T11:52:31.455302Z",
          "start_time": "2025-01-09T11:52:31.446626Z"
        },
        "lines_to_next_cell": 0,
        "id": "ae1e9a3a"
      },
      "outputs": [],
      "source": [
        "idx_80 = Auto['year'] > 80\n",
        "Auto[idx_80]\n"
      ]
    },
    {
      "cell_type": "markdown",
      "id": "d37e10a9",
      "metadata": {
        "id": "d37e10a9"
      },
      "source": [
        "However, if we pass  in a list of strings to the `[]` method, then we obtain a data frame containing the corresponding set of *columns*."
      ]
    },
    {
      "cell_type": "code",
      "execution_count": null,
      "id": "2b543957",
      "metadata": {
        "ExecuteTime": {
          "end_time": "2025-01-09T11:52:31.510472Z",
          "start_time": "2025-01-09T11:52:31.506475Z"
        },
        "lines_to_next_cell": 0,
        "id": "2b543957"
      },
      "outputs": [],
      "source": [
        "Auto[['mpg', 'horsepower']]\n"
      ]
    },
    {
      "cell_type": "markdown",
      "id": "92bd5358",
      "metadata": {
        "id": "92bd5358"
      },
      "source": [
        "Since we did not specify an *index* column when we loaded our data frame, the rows are labeled using integers\n",
        "0 to 396."
      ]
    },
    {
      "cell_type": "code",
      "execution_count": null,
      "id": "077b30b4",
      "metadata": {
        "ExecuteTime": {
          "end_time": "2025-01-09T11:52:31.617396Z",
          "start_time": "2025-01-09T11:52:31.615558Z"
        },
        "lines_to_next_cell": 0,
        "id": "077b30b4"
      },
      "outputs": [],
      "source": [
        "Auto.index\n"
      ]
    },
    {
      "cell_type": "markdown",
      "id": "e0399816",
      "metadata": {
        "id": "e0399816"
      },
      "source": [
        "We can use the\n",
        "`set_index()` method to re-name the rows using the contents of `Auto['name']`."
      ]
    },
    {
      "cell_type": "code",
      "execution_count": null,
      "id": "601c3700",
      "metadata": {
        "ExecuteTime": {
          "end_time": "2025-01-09T11:52:31.664807Z",
          "start_time": "2025-01-09T11:52:31.660435Z"
        },
        "id": "601c3700"
      },
      "outputs": [],
      "source": [
        "Auto_re = Auto.set_index('name')\n",
        "Auto_re\n"
      ]
    },
    {
      "cell_type": "code",
      "execution_count": null,
      "id": "8ef352e3",
      "metadata": {
        "ExecuteTime": {
          "end_time": "2025-01-09T11:52:31.698641Z",
          "start_time": "2025-01-09T11:52:31.696870Z"
        },
        "lines_to_next_cell": 0,
        "id": "8ef352e3"
      },
      "outputs": [],
      "source": [
        "Auto_re.columns\n"
      ]
    },
    {
      "cell_type": "markdown",
      "id": "3e7cd35f",
      "metadata": {
        "id": "3e7cd35f"
      },
      "source": [
        "We see that the column `'name'` is no longer there.\n",
        "\n",
        "Now that the index has been set to `name`, we can  access rows of the data\n",
        "frame by `name` using the `{loc[]`} method of\n",
        "`Auto`:"
      ]
    },
    {
      "cell_type": "code",
      "execution_count": null,
      "id": "04e94eee",
      "metadata": {
        "ExecuteTime": {
          "end_time": "2025-01-09T11:52:31.743058Z",
          "start_time": "2025-01-09T11:52:31.739096Z"
        },
        "lines_to_next_cell": 0,
        "id": "04e94eee"
      },
      "outputs": [],
      "source": [
        "rows = ['amc rebel sst', 'ford torino']\n",
        "Auto_re.loc[rows]\n"
      ]
    },
    {
      "cell_type": "markdown",
      "id": "130de6b3",
      "metadata": {
        "id": "130de6b3"
      },
      "source": [
        "As an alternative to using the index name, we could retrieve the 4th and 5th rows of `Auto` using the `{iloc[]`} method:"
      ]
    },
    {
      "cell_type": "code",
      "execution_count": null,
      "id": "5cd1291d",
      "metadata": {
        "ExecuteTime": {
          "end_time": "2025-01-09T11:52:31.796592Z",
          "start_time": "2025-01-09T11:52:31.793305Z"
        },
        "lines_to_next_cell": 0,
        "id": "5cd1291d"
      },
      "outputs": [],
      "source": [
        "Auto_re.iloc[[3,4]]\n"
      ]
    },
    {
      "cell_type": "markdown",
      "id": "7f84a56d",
      "metadata": {
        "id": "7f84a56d"
      },
      "source": [
        "We can also use it to retrieve the 1st, 3rd and and 4th columns of `Auto_re`:"
      ]
    },
    {
      "cell_type": "code",
      "execution_count": null,
      "id": "5f1f3970",
      "metadata": {
        "ExecuteTime": {
          "end_time": "2025-01-09T11:52:31.855537Z",
          "start_time": "2025-01-09T11:52:31.851496Z"
        },
        "lines_to_next_cell": 0,
        "id": "5f1f3970"
      },
      "outputs": [],
      "source": [
        "Auto_re.iloc[:,[0,2,3]]\n"
      ]
    },
    {
      "cell_type": "markdown",
      "id": "ea7a4fe5",
      "metadata": {
        "id": "ea7a4fe5"
      },
      "source": [
        "We can extract the 4th and 5th rows, as well as the 1st, 3rd and 4th columns, using\n",
        "a single call to `iloc[]`:"
      ]
    },
    {
      "cell_type": "code",
      "execution_count": null,
      "id": "a9429e4b",
      "metadata": {
        "ExecuteTime": {
          "end_time": "2025-01-09T11:52:31.922393Z",
          "start_time": "2025-01-09T11:52:31.918710Z"
        },
        "lines_to_next_cell": 0,
        "id": "a9429e4b"
      },
      "outputs": [],
      "source": [
        "Auto_re.iloc[[3,4],[0,2,3]]\n"
      ]
    },
    {
      "cell_type": "markdown",
      "id": "efd4b127",
      "metadata": {
        "id": "efd4b127"
      },
      "source": [
        "Index entries need not be unique: there are several cars  in the data frame named `ford galaxie 500`."
      ]
    },
    {
      "cell_type": "code",
      "execution_count": null,
      "id": "1fd20b7d",
      "metadata": {
        "ExecuteTime": {
          "end_time": "2025-01-09T11:52:31.996831Z",
          "start_time": "2025-01-09T11:52:31.993477Z"
        },
        "lines_to_next_cell": 0,
        "id": "1fd20b7d"
      },
      "outputs": [],
      "source": [
        "Auto_re.loc['ford galaxie 500', ['mpg', 'origin']]\n"
      ]
    },
    {
      "cell_type": "markdown",
      "id": "bdbeddfd",
      "metadata": {
        "id": "bdbeddfd"
      },
      "source": [
        "### More on Selecting Rows and Columns\n",
        "Suppose now that we want to create a data frame consisting of the  `weight` and `origin`  of the subset of cars with\n",
        "`year` greater than 80 --- i.e. those built after 1980.\n",
        "To do this, we first create a Boolean array that indexes the rows.\n",
        "The `loc[]` method allows for Boolean entries as well as strings:"
      ]
    },
    {
      "cell_type": "code",
      "execution_count": null,
      "id": "df6fa9de",
      "metadata": {
        "ExecuteTime": {
          "end_time": "2025-01-09T11:52:32.067281Z",
          "start_time": "2025-01-09T11:52:32.062503Z"
        },
        "lines_to_next_cell": 2,
        "id": "df6fa9de"
      },
      "outputs": [],
      "source": [
        "idx_80 = Auto_re['year'] > 80\n",
        "Auto_re.loc[idx_80, ['weight', 'origin']]\n"
      ]
    },
    {
      "cell_type": "markdown",
      "id": "3e67bd1f",
      "metadata": {
        "id": "3e67bd1f"
      },
      "source": [
        "To do this more concisely, we can use an anonymous function called a `lambda`:"
      ]
    },
    {
      "cell_type": "code",
      "execution_count": null,
      "id": "b57f8503",
      "metadata": {
        "ExecuteTime": {
          "end_time": "2025-01-09T11:52:32.123169Z",
          "start_time": "2025-01-09T11:52:32.118542Z"
        },
        "lines_to_next_cell": 0,
        "id": "b57f8503"
      },
      "outputs": [],
      "source": [
        "Auto_re.loc[lambda df: df['year'] > 80, ['weight', 'origin']]\n"
      ]
    },
    {
      "cell_type": "markdown",
      "id": "c05c4b8d",
      "metadata": {
        "id": "c05c4b8d"
      },
      "source": [
        "The `lambda` call creates a function that takes a single\n",
        "argument, here `df`, and returns `df['year']>80`.\n",
        "Since it is created inside the `loc[]` method for the\n",
        "dataframe `Auto_re`, that dataframe will be the argument supplied.\n",
        "As another example of using a `lambda`, suppose that\n",
        "we want all cars built after 1980 that achieve greater than 30 miles per gallon:"
      ]
    },
    {
      "cell_type": "code",
      "execution_count": null,
      "id": "965b5b74",
      "metadata": {
        "ExecuteTime": {
          "end_time": "2025-01-09T11:52:32.182888Z",
          "start_time": "2025-01-09T11:52:32.178357Z"
        },
        "lines_to_next_cell": 0,
        "id": "965b5b74"
      },
      "outputs": [],
      "source": [
        "Auto_re.loc[lambda df: (df['year'] > 80) & (df['mpg'] > 30),\n",
        "            ['weight', 'origin']\n",
        "           ]\n"
      ]
    },
    {
      "cell_type": "markdown",
      "id": "29c8f349",
      "metadata": {
        "id": "29c8f349"
      },
      "source": [
        "The symbol `&` computes an element-wise *and* operation.\n",
        "As another example, suppose that we want to retrieve all `Ford` and `Datsun`\n",
        "cars with `displacement` less than 300. We check whether each `name` entry contains either the string `ford` or `datsun` using the  `str.contains()` method of the `index` attribute of\n",
        "the dataframe:"
      ]
    },
    {
      "cell_type": "code",
      "execution_count": null,
      "id": "37ba9d44",
      "metadata": {
        "ExecuteTime": {
          "end_time": "2025-01-09T11:52:32.244544Z",
          "start_time": "2025-01-09T11:52:32.240043Z"
        },
        "lines_to_next_cell": 0,
        "id": "37ba9d44"
      },
      "outputs": [],
      "source": [
        "Auto_re.loc[lambda df: (df['displacement'] < 300)\n",
        "                       & (df.index.str.contains('ford')\n",
        "                       | df.index.str.contains('datsun')),\n",
        "            ['weight', 'origin']\n",
        "           ]\n"
      ]
    },
    {
      "cell_type": "markdown",
      "id": "ff538ed7",
      "metadata": {
        "id": "ff538ed7"
      },
      "source": [
        "Here, the symbol `|` computes an element-wise *or* operation.\n",
        "\n",
        "In summary, a powerful set of operations is available to index the rows and columns of data frames. For integer based queries, use the `iloc[]` method. For string and Boolean\n",
        "selections, use the `loc[]` method. For functional queries that filter rows, use the `loc[]` method\n",
        "with a function (typically a `lambda`) in the rows argument.\n",
        "\n",
        "## For Loops\n",
        "A `for` loop is a standard tool in many languages that\n",
        "repeatedly evaluates some chunk of code while\n",
        "varying different values inside the code.\n",
        "For example, suppose we loop over elements of a list and compute their sum."
      ]
    },
    {
      "cell_type": "code",
      "execution_count": null,
      "id": "2e945229",
      "metadata": {
        "ExecuteTime": {
          "end_time": "2025-01-09T11:52:32.304249Z",
          "start_time": "2025-01-09T11:52:32.302519Z"
        },
        "lines_to_next_cell": 0,
        "id": "2e945229"
      },
      "outputs": [],
      "source": [
        "total = 0\n",
        "for value in [3,2,19]:\n",
        "    total += value\n",
        "print('Total is: {0}'.format(total))\n"
      ]
    },
    {
      "cell_type": "markdown",
      "id": "076ec0d0",
      "metadata": {
        "id": "076ec0d0"
      },
      "source": [
        "The indented code beneath the line with the `for` statement is run\n",
        "for each value in the sequence\n",
        "specified in the `for` statement. The loop ends either\n",
        "when the cell ends or when code is indented at the same level\n",
        "as the original `for` statement.\n",
        "We see that the final line above which prints the total is executed\n",
        "only once after the for loop has terminated. Loops\n",
        "can be nested by additional indentation."
      ]
    },
    {
      "cell_type": "code",
      "execution_count": null,
      "id": "a8042d85",
      "metadata": {
        "ExecuteTime": {
          "end_time": "2025-01-09T11:52:32.359684Z",
          "start_time": "2025-01-09T11:52:32.358057Z"
        },
        "lines_to_next_cell": 0,
        "id": "a8042d85"
      },
      "outputs": [],
      "source": [
        "total = 0\n",
        "for value in [2,3,19]:\n",
        "    for weight in [3, 2, 1]:\n",
        "        total += value * weight\n",
        "print('Total is: {0}'.format(total))"
      ]
    },
    {
      "cell_type": "markdown",
      "id": "ed55d12d",
      "metadata": {
        "id": "ed55d12d"
      },
      "source": [
        "Above, we summed over each combination of `value` and `weight`.\n",
        "We also took advantage of the *increment* notation\n",
        "in `Python`: the expression `a += b` is equivalent\n",
        "to `a = a + b`. Besides\n",
        "being a convenient notation, this can save time in computationally\n",
        "heavy tasks in which the intermediate value of `a+b` need not\n",
        "be explicitly created.\n",
        "\n",
        "Perhaps a more\n",
        "common task would be to sum over `(value, weight)` pairs. For instance,\n",
        "to compute the average value of a random variable that takes on\n",
        "possible values 2, 3 or 19 with probability 0.2, 0.3, 0.5 respectively\n",
        "we would compute the weighted sum. Tasks such as this\n",
        "can often be accomplished using the `zip()`  function that\n",
        "loops over a sequence of tuples."
      ]
    },
    {
      "cell_type": "code",
      "execution_count": null,
      "id": "25f92ff6",
      "metadata": {
        "ExecuteTime": {
          "end_time": "2025-01-09T11:52:32.424449Z",
          "start_time": "2025-01-09T11:52:32.422571Z"
        },
        "id": "25f92ff6"
      },
      "outputs": [],
      "source": [
        "total = 0\n",
        "for value, weight in zip([2,3,19],\n",
        "                         [0.2,0.3,0.5]):\n",
        "    total += weight * value\n",
        "print('Weighted average is: {0}'.format(total))\n"
      ]
    },
    {
      "cell_type": "markdown",
      "id": "00999fd0",
      "metadata": {
        "id": "00999fd0"
      },
      "source": [
        "### String Formatting\n",
        "In the code chunk above we also printed a string\n",
        "displaying the total. However, the object `total`\n",
        "is an  integer and not a string.\n",
        "Inserting the value of something into\n",
        "a string is a common task, made\n",
        "simple using\n",
        "some of the powerful string formatting\n",
        "tools in `Python`.\n",
        "Many data cleaning tasks involve\n",
        "manipulating and programmatically\n",
        "producing strings.\n",
        "\n",
        "For example we may want to loop over the columns of a data frame and\n",
        "print the percent missing in each column.\n",
        "Let’s create a data frame `D` with columns in which 20% of the entries are missing i.e. set\n",
        "to `np.nan`.  We’ll create the\n",
        "values in `D` from a normal distribution with mean 0 and variance 1 using `rng.standard_normal()`\n",
        "and then overwrite some random entries using `rng.choice()`."
      ]
    },
    {
      "cell_type": "code",
      "execution_count": null,
      "id": "35700d0c",
      "metadata": {
        "ExecuteTime": {
          "end_time": "2025-01-09T11:52:32.468112Z",
          "start_time": "2025-01-09T11:52:32.464320Z"
        },
        "lines_to_next_cell": 2,
        "id": "35700d0c"
      },
      "outputs": [],
      "source": [
        "rng = np.random.default_rng(1)\n",
        "A = rng.standard_normal((127, 5))\n",
        "M = rng.choice([0, np.nan], p=[0.8,0.2], size=A.shape)\n",
        "A += M\n",
        "D = pd.DataFrame(A, columns=['food',\n",
        "                             'bar',\n",
        "                             'pickle',\n",
        "                             'snack',\n",
        "                             'popcorn'])\n",
        "D[:3]\n"
      ]
    },
    {
      "cell_type": "code",
      "execution_count": null,
      "id": "dc8b3ab5",
      "metadata": {
        "ExecuteTime": {
          "end_time": "2025-01-09T11:52:32.493746Z",
          "start_time": "2025-01-09T11:52:32.491298Z"
        },
        "lines_to_next_cell": 0,
        "id": "dc8b3ab5"
      },
      "outputs": [],
      "source": [
        "for col in D.columns:\n",
        "    template = 'Column \"{0}\" has {1:.2%} missing values'\n",
        "    print(template.format(col,\n",
        "          np.isnan(D[col]).mean()))\n"
      ]
    },
    {
      "cell_type": "markdown",
      "id": "add802e6",
      "metadata": {
        "id": "add802e6"
      },
      "source": [
        "We see that the `template.format()` method expects two arguments `{0}`\n",
        "and `{1:.2%}`, and the latter includes some formatting\n",
        "information. In particular, it specifies that the second argument should be expressed as a percent with two decimal digits.\n",
        "\n",
        "The reference\n",
        "[docs.python.org/3/library/string.html](https://docs.python.org/3/library/string.html)\n",
        "includes many helpful and more complex examples."
      ]
    },
    {
      "cell_type": "markdown",
      "id": "42c6b8fc",
      "metadata": {
        "id": "42c6b8fc"
      },
      "source": [
        "## Additional Graphical and Numerical Summaries\n",
        "We can use the `ax.plot()` or  `ax.scatter()`  functions to display the quantitative variables. However, simply typing the variable names will produce an error message,\n",
        "because `Python` does not know to look in the  `Auto`  data set for those variables."
      ]
    },
    {
      "cell_type": "code",
      "execution_count": null,
      "id": "06c63b21",
      "metadata": {
        "ExecuteTime": {
          "end_time": "2025-01-09T11:52:32.559356Z",
          "start_time": "2025-01-09T11:52:32.527473Z"
        },
        "lines_to_next_cell": 0,
        "id": "06c63b21"
      },
      "outputs": [],
      "source": [
        "fig, ax = subplots(figsize=(8, 8))\n",
        "ax.plot(horsepower, mpg, 'o');"
      ]
    },
    {
      "cell_type": "markdown",
      "id": "13400a24",
      "metadata": {
        "id": "13400a24"
      },
      "source": [
        "We can address this by accessing the columns directly:"
      ]
    },
    {
      "cell_type": "code",
      "execution_count": null,
      "id": "dae69229",
      "metadata": {
        "ExecuteTime": {
          "end_time": "2025-01-09T11:52:32.652228Z",
          "start_time": "2025-01-09T11:52:32.612954Z"
        },
        "lines_to_next_cell": 0,
        "id": "dae69229"
      },
      "outputs": [],
      "source": [
        "fig, ax = subplots(figsize=(8, 8))\n",
        "ax.plot(Auto['horsepower'], Auto['mpg'], 'o');\n"
      ]
    },
    {
      "cell_type": "markdown",
      "id": "743334ab",
      "metadata": {
        "id": "743334ab"
      },
      "source": [
        "Alternatively, we can use the `plot()` method with the call `Auto.plot()`.\n",
        "Using this method,\n",
        "the variables  can be accessed by name.\n",
        "The plot methods of a data frame return a familiar object:\n",
        "an axes. We can use it to update the plot as we did previously:"
      ]
    },
    {
      "cell_type": "code",
      "execution_count": null,
      "id": "9fbba9c1",
      "metadata": {
        "ExecuteTime": {
          "end_time": "2025-01-09T11:52:32.703444Z",
          "start_time": "2025-01-09T11:52:32.656857Z"
        },
        "lines_to_next_cell": 0,
        "id": "9fbba9c1"
      },
      "outputs": [],
      "source": [
        "ax = Auto.plot.scatter('horsepower', 'mpg')\n",
        "ax.set_title('Horsepower vs. MPG');"
      ]
    },
    {
      "cell_type": "markdown",
      "id": "157c0d7b",
      "metadata": {
        "id": "157c0d7b"
      },
      "source": [
        "If we want to save\n",
        "the figure that contains a given axes, we can find the relevant figure\n",
        "by accessing the `figure` attribute:"
      ]
    },
    {
      "cell_type": "code",
      "execution_count": null,
      "id": "f04edd65",
      "metadata": {
        "ExecuteTime": {
          "end_time": "2025-01-09T11:52:32.725114Z",
          "start_time": "2025-01-09T11:52:32.708462Z"
        },
        "id": "f04edd65"
      },
      "outputs": [],
      "source": [
        "fig = ax.figure\n",
        "fig.savefig('horsepower_mpg.png');"
      ]
    },
    {
      "cell_type": "markdown",
      "id": "594c98cc",
      "metadata": {
        "id": "594c98cc"
      },
      "source": [
        "We can further instruct the data frame to plot to a particular axes object. In this\n",
        "case the corresponding `plot()` method will return the\n",
        "modified axes we passed in as an argument. Note that\n",
        "when we request a one-dimensional grid of plots, the object `axes` is similarly\n",
        "one-dimensional. We place our scatter plot in the middle plot of a row of three plots\n",
        "within a figure."
      ]
    },
    {
      "cell_type": "code",
      "execution_count": null,
      "id": "c0e67313",
      "metadata": {
        "ExecuteTime": {
          "end_time": "2025-01-09T11:52:32.808132Z",
          "start_time": "2025-01-09T11:52:32.728315Z"
        },
        "id": "c0e67313"
      },
      "outputs": [],
      "source": [
        "fig, axes = subplots(ncols=3, figsize=(15, 5))\n",
        "Auto.plot.scatter('horsepower', 'mpg', ax=axes[1]);\n"
      ]
    },
    {
      "cell_type": "markdown",
      "id": "d8ac788f",
      "metadata": {
        "id": "d8ac788f"
      },
      "source": [
        "Note also that the columns of a data frame can be accessed as attributes: try typing in `Auto.horsepower`."
      ]
    },
    {
      "cell_type": "markdown",
      "id": "f2135411",
      "metadata": {
        "id": "f2135411"
      },
      "source": [
        "We now consider the `cylinders` variable. Typing in `Auto.cylinders.dtype` reveals that it is being treated as a quantitative variable.\n",
        "However, since there is only a small number of possible values for this variable, we may wish to treat it as\n",
        " qualitative.  Below, we replace\n",
        "the `cylinders` column with a categorical version of `Auto.cylinders`. The function `pd.Series()`  owes its name to the fact that `pandas` is often used in time series applications."
      ]
    },
    {
      "cell_type": "code",
      "execution_count": null,
      "id": "660482a9",
      "metadata": {
        "ExecuteTime": {
          "end_time": "2025-01-09T11:52:32.820752Z",
          "start_time": "2025-01-09T11:52:32.818162Z"
        },
        "lines_to_next_cell": 0,
        "id": "660482a9"
      },
      "outputs": [],
      "source": [
        "Auto.cylinders = pd.Series(Auto.cylinders, dtype='category')\n",
        "Auto.cylinders.dtype\n"
      ]
    },
    {
      "cell_type": "markdown",
      "id": "917a64a1",
      "metadata": {
        "id": "917a64a1"
      },
      "source": [
        " Now that `cylinders` is qualitative, we can display it using\n",
        " the `boxplot()` method."
      ]
    },
    {
      "cell_type": "code",
      "execution_count": null,
      "id": "9eb5befc",
      "metadata": {
        "ExecuteTime": {
          "end_time": "2025-01-09T11:52:32.889763Z",
          "start_time": "2025-01-09T11:52:32.836585Z"
        },
        "id": "9eb5befc"
      },
      "outputs": [],
      "source": [
        "fig, ax = subplots(figsize=(8, 8))\n",
        "Auto.boxplot('mpg', by='cylinders', ax=ax);\n"
      ]
    },
    {
      "cell_type": "markdown",
      "id": "18d2d520",
      "metadata": {
        "id": "18d2d520"
      },
      "source": [
        "The `hist()`  method can be used to plot a *histogram*."
      ]
    },
    {
      "cell_type": "code",
      "execution_count": null,
      "id": "f529de12",
      "metadata": {
        "ExecuteTime": {
          "end_time": "2025-01-09T11:52:32.942754Z",
          "start_time": "2025-01-09T11:52:32.893576Z"
        },
        "lines_to_next_cell": 0,
        "id": "f529de12"
      },
      "outputs": [],
      "source": [
        "fig, ax = subplots(figsize=(8, 8))\n",
        "Auto.hist('mpg', ax=ax);\n"
      ]
    },
    {
      "cell_type": "markdown",
      "id": "edbe71f5",
      "metadata": {
        "id": "edbe71f5"
      },
      "source": [
        "The color of the bars and the number of bins can be changed:"
      ]
    },
    {
      "cell_type": "code",
      "execution_count": null,
      "id": "9a897cee",
      "metadata": {
        "ExecuteTime": {
          "end_time": "2025-01-09T11:52:32.995683Z",
          "start_time": "2025-01-09T11:52:32.947954Z"
        },
        "lines_to_next_cell": 0,
        "id": "9a897cee"
      },
      "outputs": [],
      "source": [
        "fig, ax = subplots(figsize=(8, 8))\n",
        "Auto.hist('mpg', color='red', bins=12, ax=ax);\n"
      ]
    },
    {
      "cell_type": "markdown",
      "id": "c558bb20",
      "metadata": {
        "id": "c558bb20"
      },
      "source": [
        " See `Auto.hist?` for more plotting\n",
        "options.\n",
        "\n",
        "We can use the `pd.plotting.scatter_matrix()`   function to create a *scatterplot matrix* to visualize all of the pairwise relationships between the columns in\n",
        "a data frame."
      ]
    },
    {
      "cell_type": "code",
      "execution_count": null,
      "id": "5e003b22",
      "metadata": {
        "ExecuteTime": {
          "end_time": "2025-01-09T11:52:33.570091Z",
          "start_time": "2025-01-09T11:52:33.039112Z"
        },
        "lines_to_next_cell": 0,
        "id": "5e003b22"
      },
      "outputs": [],
      "source": [
        "pd.plotting.scatter_matrix(Auto);\n"
      ]
    },
    {
      "cell_type": "markdown",
      "id": "b7ecee3c",
      "metadata": {
        "id": "b7ecee3c"
      },
      "source": [
        " We can also produce scatterplots\n",
        "for a subset of the variables."
      ]
    },
    {
      "cell_type": "code",
      "execution_count": null,
      "id": "87f2d391",
      "metadata": {
        "ExecuteTime": {
          "end_time": "2025-01-09T11:52:33.681489Z",
          "start_time": "2025-01-09T11:52:33.572724Z"
        },
        "lines_to_next_cell": 0,
        "id": "87f2d391"
      },
      "outputs": [],
      "source": [
        "pd.plotting.scatter_matrix(Auto[['mpg',\n",
        "                                 'displacement',\n",
        "                                 'weight']]);\n"
      ]
    },
    {
      "cell_type": "markdown",
      "id": "d4577efb",
      "metadata": {
        "id": "d4577efb"
      },
      "source": [
        "The `describe()`  method produces a numerical summary of each column in a data frame."
      ]
    },
    {
      "cell_type": "code",
      "execution_count": null,
      "id": "33cc3b75",
      "metadata": {
        "ExecuteTime": {
          "end_time": "2025-01-09T11:52:33.690839Z",
          "start_time": "2025-01-09T11:52:33.686224Z"
        },
        "editable": true,
        "lines_to_next_cell": 0,
        "tags": [],
        "id": "33cc3b75"
      },
      "outputs": [],
      "source": [
        "Auto[['mpg', 'weight']].describe()\n"
      ]
    },
    {
      "cell_type": "markdown",
      "id": "f657fa4d",
      "metadata": {
        "id": "f657fa4d"
      },
      "source": [
        "We can also produce a summary of just a single column."
      ]
    },
    {
      "cell_type": "code",
      "execution_count": null,
      "id": "40b2093824458ab1",
      "metadata": {
        "ExecuteTime": {
          "end_time": "2025-01-09T11:52:33.716058Z",
          "start_time": "2025-01-09T11:52:33.712235Z"
        },
        "lines_to_next_cell": 0,
        "id": "40b2093824458ab1"
      },
      "outputs": [],
      "source": [
        "Auto['cylinders'].describe()\n",
        "Auto['mpg'].describe()\n"
      ]
    },
    {
      "cell_type": "markdown",
      "id": "c6a46525",
      "metadata": {
        "id": "c6a46525"
      },
      "source": [
        "To exit `Jupyter`,  select `File / Shut Down`.\n",
        "\n",
        "\n",
        "\n"
      ]
    }
  ],
  "metadata": {
    "jupytext": {
      "cell_metadata_filter": "-all",
      "formats": "ipynb,Rmd",
      "main_language": "python"
    },
    "language_info": {
      "name": "python"
    },
    "colab": {
      "provenance": []
    },
    "kernelspec": {
      "name": "python3",
      "display_name": "Python 3"
    }
  },
  "nbformat": 4,
  "nbformat_minor": 5
}